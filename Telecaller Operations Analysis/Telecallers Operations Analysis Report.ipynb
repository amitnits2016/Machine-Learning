{
 "cells": [
  {
   "cell_type": "markdown",
   "metadata": {},
   "source": [
    "### Importing necessary Libraries"
   ]
  },
  {
   "cell_type": "code",
   "execution_count": 1,
   "metadata": {},
   "outputs": [],
   "source": [
    "import pandas as pd\n",
    "import numpy as np\n",
    "import datetime\n",
    "import matplotlib.pyplot as plt\n",
    "%matplotlib inline\n",
    "import seaborn as sns\n",
    "sns.set(rc={'figure.figsize':(16,8)})"
   ]
  },
  {
   "cell_type": "markdown",
   "metadata": {},
   "source": [
    "### Loading the dataset \n",
    " * leads.csv file"
   ]
  },
  {
   "cell_type": "markdown",
   "metadata": {},
   "source": [
    "## Table 1: Leads"
   ]
  },
  {
   "cell_type": "code",
   "execution_count": 2,
   "metadata": {},
   "outputs": [
    {
     "data": {
      "text/html": [
       "<div>\n",
       "<style scoped>\n",
       "    .dataframe tbody tr th:only-of-type {\n",
       "        vertical-align: middle;\n",
       "    }\n",
       "\n",
       "    .dataframe tbody tr th {\n",
       "        vertical-align: top;\n",
       "    }\n",
       "\n",
       "    .dataframe thead th {\n",
       "        text-align: right;\n",
       "    }\n",
       "</style>\n",
       "<table border=\"1\" class=\"dataframe\">\n",
       "  <thead>\n",
       "    <tr style=\"text-align: right;\">\n",
       "      <th></th>\n",
       "      <th>id</th>\n",
       "      <th>userId</th>\n",
       "      <th>name</th>\n",
       "      <th>phoneNumber</th>\n",
       "      <th>city</th>\n",
       "      <th>state</th>\n",
       "      <th>source</th>\n",
       "      <th>isExternal</th>\n",
       "      <th>createdAt</th>\n",
       "      <th>receivedAt</th>\n",
       "    </tr>\n",
       "  </thead>\n",
       "  <tbody>\n",
       "    <tr>\n",
       "      <th>0</th>\n",
       "      <td>00021a29-83e4-48d3-8cc3-0bc729f087fd</td>\n",
       "      <td>NaN</td>\n",
       "      <td>KUPENDRA</td>\n",
       "      <td>1234567890</td>\n",
       "      <td>NaN</td>\n",
       "      <td>NaN</td>\n",
       "      <td>Airavatha data</td>\n",
       "      <td>True</td>\n",
       "      <td>2019-12-26T18:17:13.115Z</td>\n",
       "      <td>2019-11-01T05:41:00Z</td>\n",
       "    </tr>\n",
       "    <tr>\n",
       "      <th>1</th>\n",
       "      <td>000743a8-3bd5-4e5a-97ed-dcf0af91aeb7</td>\n",
       "      <td>e50fccfe-82aa-434a-ad92-9d3f9d651f84</td>\n",
       "      <td>Dinkle Unknown</td>\n",
       "      <td>1234567890</td>\n",
       "      <td>Delhi/NCR</td>\n",
       "      <td>Delhi-NCR</td>\n",
       "      <td>delhi-18-33yo-10-15k-hdat-july-17</td>\n",
       "      <td>False</td>\n",
       "      <td>2019-12-26T17:49:53.471Z</td>\n",
       "      <td>2019-08-25T00:00:00Z</td>\n",
       "    </tr>\n",
       "    <tr>\n",
       "      <th>2</th>\n",
       "      <td>0013dc91-e0e3-48f6-9518-6cf8389dd923</td>\n",
       "      <td>NaN</td>\n",
       "      <td>Elikatte Kumaraswamy</td>\n",
       "      <td>1234567890</td>\n",
       "      <td>Hyderabad</td>\n",
       "      <td>Telangana</td>\n",
       "      <td>WhatsApp OptIn Form</td>\n",
       "      <td>False</td>\n",
       "      <td>2019-12-26T17:21:04.021Z</td>\n",
       "      <td>2019-07-25T00:00:00Z</td>\n",
       "    </tr>\n",
       "    <tr>\n",
       "      <th>3</th>\n",
       "      <td>001477a2-80d0-4b6d-a392-16aeaeef805d</td>\n",
       "      <td>4e0222f0-42aa-4660-976b-8e9329b4b1a7</td>\n",
       "      <td>Raju Unknown</td>\n",
       "      <td>1234567890</td>\n",
       "      <td>Hyderabad</td>\n",
       "      <td>Telangana</td>\n",
       "      <td>Referrals</td>\n",
       "      <td>False</td>\n",
       "      <td>2019-12-26T17:26:31.459Z</td>\n",
       "      <td>2019-06-03T00:00:00Z</td>\n",
       "    </tr>\n",
       "    <tr>\n",
       "      <th>4</th>\n",
       "      <td>0014961d-9b66-4cae-85aa-acb89cd51f1e</td>\n",
       "      <td>NaN</td>\n",
       "      <td>Arunkumar Unknown</td>\n",
       "      <td>1234567890</td>\n",
       "      <td>Bangalore</td>\n",
       "      <td>Karnataka</td>\n",
       "      <td>Reused Leads</td>\n",
       "      <td>False</td>\n",
       "      <td>2019-12-26T17:21:05.065Z</td>\n",
       "      <td>2019-04-01T00:00:00Z</td>\n",
       "    </tr>\n",
       "    <tr>\n",
       "      <th>...</th>\n",
       "      <td>...</td>\n",
       "      <td>...</td>\n",
       "      <td>...</td>\n",
       "      <td>...</td>\n",
       "      <td>...</td>\n",
       "      <td>...</td>\n",
       "      <td>...</td>\n",
       "      <td>...</td>\n",
       "      <td>...</td>\n",
       "      <td>...</td>\n",
       "    </tr>\n",
       "    <tr>\n",
       "      <th>9911</th>\n",
       "      <td>ffd9d0e6-4407-4442-a9de-fadc76117b65</td>\n",
       "      <td>0f97f6be-6332-4bdc-ad13-1f9b6f6e3a29</td>\n",
       "      <td>Magesh A.m</td>\n",
       "      <td>1234567890</td>\n",
       "      <td>Chennai</td>\n",
       "      <td>Tamil Nadu</td>\n",
       "      <td>Quikr_Zomato_Chennai</td>\n",
       "      <td>False</td>\n",
       "      <td>2019-12-26T18:09:36.081Z</td>\n",
       "      <td>2019-10-15T18:14:00Z</td>\n",
       "    </tr>\n",
       "    <tr>\n",
       "      <th>9912</th>\n",
       "      <td>ffdcc8e7-2cff-42ce-9647-093a03449b91</td>\n",
       "      <td>8c60af4b-a92e-4808-9c7a-2bac36bf6f29</td>\n",
       "      <td>Sri Unknown</td>\n",
       "      <td>1234567890</td>\n",
       "      <td>Chennai</td>\n",
       "      <td>Tamil Nadu</td>\n",
       "      <td>Referrals</td>\n",
       "      <td>False</td>\n",
       "      <td>2019-12-26T17:26:33.135Z</td>\n",
       "      <td>2019-06-09T00:00:00Z</td>\n",
       "    </tr>\n",
       "    <tr>\n",
       "      <th>9913</th>\n",
       "      <td>ffdf0149-30e1-4ef6-8a3d-666717527548</td>\n",
       "      <td>NaN</td>\n",
       "      <td>Rajesh Unknown</td>\n",
       "      <td>1234567890</td>\n",
       "      <td>Hyderabad</td>\n",
       "      <td>Telangana</td>\n",
       "      <td>API</td>\n",
       "      <td>False</td>\n",
       "      <td>2019-12-26T17:22:16.350Z</td>\n",
       "      <td>2019-07-25T00:00:00Z</td>\n",
       "    </tr>\n",
       "    <tr>\n",
       "      <th>9914</th>\n",
       "      <td>ffe620cf-727b-4e2a-a201-ec2505b0f93f</td>\n",
       "      <td>NaN</td>\n",
       "      <td>Abhi Unknown</td>\n",
       "      <td>1234567890</td>\n",
       "      <td>Hyderabad</td>\n",
       "      <td>Telangana</td>\n",
       "      <td>Web Chat Referrals</td>\n",
       "      <td>False</td>\n",
       "      <td>2019-12-26T17:22:16.394Z</td>\n",
       "      <td>2019-05-01T00:00:00Z</td>\n",
       "    </tr>\n",
       "    <tr>\n",
       "      <th>9915</th>\n",
       "      <td>fff62584-cb37-49ff-8df2-b193431f0804</td>\n",
       "      <td>91b12668-004e-476e-af10-7a0119d160b8</td>\n",
       "      <td>Vittal Unknown</td>\n",
       "      <td>1234567890</td>\n",
       "      <td>Bangalore</td>\n",
       "      <td>Karnataka</td>\n",
       "      <td>Referrals</td>\n",
       "      <td>False</td>\n",
       "      <td>2019-12-26T17:26:32.823Z</td>\n",
       "      <td>2019-06-09T00:00:00Z</td>\n",
       "    </tr>\n",
       "  </tbody>\n",
       "</table>\n",
       "<p>9916 rows × 10 columns</p>\n",
       "</div>"
      ],
      "text/plain": [
       "                                        id  \\\n",
       "0     00021a29-83e4-48d3-8cc3-0bc729f087fd   \n",
       "1     000743a8-3bd5-4e5a-97ed-dcf0af91aeb7   \n",
       "2     0013dc91-e0e3-48f6-9518-6cf8389dd923   \n",
       "3     001477a2-80d0-4b6d-a392-16aeaeef805d   \n",
       "4     0014961d-9b66-4cae-85aa-acb89cd51f1e   \n",
       "...                                    ...   \n",
       "9911  ffd9d0e6-4407-4442-a9de-fadc76117b65   \n",
       "9912  ffdcc8e7-2cff-42ce-9647-093a03449b91   \n",
       "9913  ffdf0149-30e1-4ef6-8a3d-666717527548   \n",
       "9914  ffe620cf-727b-4e2a-a201-ec2505b0f93f   \n",
       "9915  fff62584-cb37-49ff-8df2-b193431f0804   \n",
       "\n",
       "                                    userId                  name  phoneNumber  \\\n",
       "0                                      NaN              KUPENDRA   1234567890   \n",
       "1     e50fccfe-82aa-434a-ad92-9d3f9d651f84        Dinkle Unknown   1234567890   \n",
       "2                                      NaN  Elikatte Kumaraswamy   1234567890   \n",
       "3     4e0222f0-42aa-4660-976b-8e9329b4b1a7          Raju Unknown   1234567890   \n",
       "4                                      NaN     Arunkumar Unknown   1234567890   \n",
       "...                                    ...                   ...          ...   \n",
       "9911  0f97f6be-6332-4bdc-ad13-1f9b6f6e3a29            Magesh A.m   1234567890   \n",
       "9912  8c60af4b-a92e-4808-9c7a-2bac36bf6f29           Sri Unknown   1234567890   \n",
       "9913                                   NaN        Rajesh Unknown   1234567890   \n",
       "9914                                   NaN          Abhi Unknown   1234567890   \n",
       "9915  91b12668-004e-476e-af10-7a0119d160b8        Vittal Unknown   1234567890   \n",
       "\n",
       "           city       state                             source  isExternal  \\\n",
       "0           NaN         NaN                     Airavatha data        True   \n",
       "1     Delhi/NCR   Delhi-NCR  delhi-18-33yo-10-15k-hdat-july-17       False   \n",
       "2     Hyderabad   Telangana                WhatsApp OptIn Form       False   \n",
       "3     Hyderabad   Telangana                          Referrals       False   \n",
       "4     Bangalore   Karnataka                       Reused Leads       False   \n",
       "...         ...         ...                                ...         ...   \n",
       "9911    Chennai  Tamil Nadu               Quikr_Zomato_Chennai       False   \n",
       "9912    Chennai  Tamil Nadu                          Referrals       False   \n",
       "9913  Hyderabad   Telangana                                API       False   \n",
       "9914  Hyderabad   Telangana                 Web Chat Referrals       False   \n",
       "9915  Bangalore   Karnataka                          Referrals       False   \n",
       "\n",
       "                     createdAt            receivedAt  \n",
       "0     2019-12-26T18:17:13.115Z  2019-11-01T05:41:00Z  \n",
       "1     2019-12-26T17:49:53.471Z  2019-08-25T00:00:00Z  \n",
       "2     2019-12-26T17:21:04.021Z  2019-07-25T00:00:00Z  \n",
       "3     2019-12-26T17:26:31.459Z  2019-06-03T00:00:00Z  \n",
       "4     2019-12-26T17:21:05.065Z  2019-04-01T00:00:00Z  \n",
       "...                        ...                   ...  \n",
       "9911  2019-12-26T18:09:36.081Z  2019-10-15T18:14:00Z  \n",
       "9912  2019-12-26T17:26:33.135Z  2019-06-09T00:00:00Z  \n",
       "9913  2019-12-26T17:22:16.350Z  2019-07-25T00:00:00Z  \n",
       "9914  2019-12-26T17:22:16.394Z  2019-05-01T00:00:00Z  \n",
       "9915  2019-12-26T17:26:32.823Z  2019-06-09T00:00:00Z  \n",
       "\n",
       "[9916 rows x 10 columns]"
      ]
     },
     "execution_count": 2,
     "metadata": {},
     "output_type": "execute_result"
    }
   ],
   "source": [
    "leads = pd.read_csv(r'E:\\Amits_Jupyter_Projects\\Vahan\\leads.csv', encoding='latin1')\n",
    "leads"
   ]
  },
  {
   "cell_type": "markdown",
   "metadata": {},
   "source": [
    "### Feature Selection or Handling\n",
    "\n",
    "1. Since leads id is uniquely identify each row, So we can drop this feature \n",
    "2. Since userId is used to refer internal database entry, This can also be dropped.\n",
    "3. Similarly Name is not important.\n",
    "4. Since phone number is all same in this data, or all different in the original data, It can be dropped."
   ]
  },
  {
   "cell_type": "code",
   "execution_count": 3,
   "metadata": {},
   "outputs": [
    {
     "data": {
      "text/plain": [
       "5977"
      ]
     },
     "execution_count": 3,
     "metadata": {},
     "output_type": "execute_result"
    }
   ],
   "source": [
    "leads['userId'].nunique()"
   ]
  },
  {
   "cell_type": "code",
   "execution_count": 4,
   "metadata": {},
   "outputs": [
    {
     "data": {
      "text/html": [
       "<div>\n",
       "<style scoped>\n",
       "    .dataframe tbody tr th:only-of-type {\n",
       "        vertical-align: middle;\n",
       "    }\n",
       "\n",
       "    .dataframe tbody tr th {\n",
       "        vertical-align: top;\n",
       "    }\n",
       "\n",
       "    .dataframe thead th {\n",
       "        text-align: right;\n",
       "    }\n",
       "</style>\n",
       "<table border=\"1\" class=\"dataframe\">\n",
       "  <thead>\n",
       "    <tr style=\"text-align: right;\">\n",
       "      <th></th>\n",
       "      <th>city</th>\n",
       "      <th>state</th>\n",
       "      <th>source</th>\n",
       "      <th>isExternal</th>\n",
       "      <th>createdAt</th>\n",
       "      <th>receivedAt</th>\n",
       "    </tr>\n",
       "  </thead>\n",
       "  <tbody>\n",
       "    <tr>\n",
       "      <th>0</th>\n",
       "      <td>NaN</td>\n",
       "      <td>NaN</td>\n",
       "      <td>Airavatha data</td>\n",
       "      <td>True</td>\n",
       "      <td>2019-12-26T18:17:13.115Z</td>\n",
       "      <td>2019-11-01T05:41:00Z</td>\n",
       "    </tr>\n",
       "    <tr>\n",
       "      <th>1</th>\n",
       "      <td>Delhi/NCR</td>\n",
       "      <td>Delhi-NCR</td>\n",
       "      <td>delhi-18-33yo-10-15k-hdat-july-17</td>\n",
       "      <td>False</td>\n",
       "      <td>2019-12-26T17:49:53.471Z</td>\n",
       "      <td>2019-08-25T00:00:00Z</td>\n",
       "    </tr>\n",
       "    <tr>\n",
       "      <th>2</th>\n",
       "      <td>Hyderabad</td>\n",
       "      <td>Telangana</td>\n",
       "      <td>WhatsApp OptIn Form</td>\n",
       "      <td>False</td>\n",
       "      <td>2019-12-26T17:21:04.021Z</td>\n",
       "      <td>2019-07-25T00:00:00Z</td>\n",
       "    </tr>\n",
       "    <tr>\n",
       "      <th>3</th>\n",
       "      <td>Hyderabad</td>\n",
       "      <td>Telangana</td>\n",
       "      <td>Referrals</td>\n",
       "      <td>False</td>\n",
       "      <td>2019-12-26T17:26:31.459Z</td>\n",
       "      <td>2019-06-03T00:00:00Z</td>\n",
       "    </tr>\n",
       "    <tr>\n",
       "      <th>4</th>\n",
       "      <td>Bangalore</td>\n",
       "      <td>Karnataka</td>\n",
       "      <td>Reused Leads</td>\n",
       "      <td>False</td>\n",
       "      <td>2019-12-26T17:21:05.065Z</td>\n",
       "      <td>2019-04-01T00:00:00Z</td>\n",
       "    </tr>\n",
       "    <tr>\n",
       "      <th>...</th>\n",
       "      <td>...</td>\n",
       "      <td>...</td>\n",
       "      <td>...</td>\n",
       "      <td>...</td>\n",
       "      <td>...</td>\n",
       "      <td>...</td>\n",
       "    </tr>\n",
       "    <tr>\n",
       "      <th>9911</th>\n",
       "      <td>Chennai</td>\n",
       "      <td>Tamil Nadu</td>\n",
       "      <td>Quikr_Zomato_Chennai</td>\n",
       "      <td>False</td>\n",
       "      <td>2019-12-26T18:09:36.081Z</td>\n",
       "      <td>2019-10-15T18:14:00Z</td>\n",
       "    </tr>\n",
       "    <tr>\n",
       "      <th>9912</th>\n",
       "      <td>Chennai</td>\n",
       "      <td>Tamil Nadu</td>\n",
       "      <td>Referrals</td>\n",
       "      <td>False</td>\n",
       "      <td>2019-12-26T17:26:33.135Z</td>\n",
       "      <td>2019-06-09T00:00:00Z</td>\n",
       "    </tr>\n",
       "    <tr>\n",
       "      <th>9913</th>\n",
       "      <td>Hyderabad</td>\n",
       "      <td>Telangana</td>\n",
       "      <td>API</td>\n",
       "      <td>False</td>\n",
       "      <td>2019-12-26T17:22:16.350Z</td>\n",
       "      <td>2019-07-25T00:00:00Z</td>\n",
       "    </tr>\n",
       "    <tr>\n",
       "      <th>9914</th>\n",
       "      <td>Hyderabad</td>\n",
       "      <td>Telangana</td>\n",
       "      <td>Web Chat Referrals</td>\n",
       "      <td>False</td>\n",
       "      <td>2019-12-26T17:22:16.394Z</td>\n",
       "      <td>2019-05-01T00:00:00Z</td>\n",
       "    </tr>\n",
       "    <tr>\n",
       "      <th>9915</th>\n",
       "      <td>Bangalore</td>\n",
       "      <td>Karnataka</td>\n",
       "      <td>Referrals</td>\n",
       "      <td>False</td>\n",
       "      <td>2019-12-26T17:26:32.823Z</td>\n",
       "      <td>2019-06-09T00:00:00Z</td>\n",
       "    </tr>\n",
       "  </tbody>\n",
       "</table>\n",
       "<p>9916 rows × 6 columns</p>\n",
       "</div>"
      ],
      "text/plain": [
       "           city       state                             source  isExternal  \\\n",
       "0           NaN         NaN                     Airavatha data        True   \n",
       "1     Delhi/NCR   Delhi-NCR  delhi-18-33yo-10-15k-hdat-july-17       False   \n",
       "2     Hyderabad   Telangana                WhatsApp OptIn Form       False   \n",
       "3     Hyderabad   Telangana                          Referrals       False   \n",
       "4     Bangalore   Karnataka                       Reused Leads       False   \n",
       "...         ...         ...                                ...         ...   \n",
       "9911    Chennai  Tamil Nadu               Quikr_Zomato_Chennai       False   \n",
       "9912    Chennai  Tamil Nadu                          Referrals       False   \n",
       "9913  Hyderabad   Telangana                                API       False   \n",
       "9914  Hyderabad   Telangana                 Web Chat Referrals       False   \n",
       "9915  Bangalore   Karnataka                          Referrals       False   \n",
       "\n",
       "                     createdAt            receivedAt  \n",
       "0     2019-12-26T18:17:13.115Z  2019-11-01T05:41:00Z  \n",
       "1     2019-12-26T17:49:53.471Z  2019-08-25T00:00:00Z  \n",
       "2     2019-12-26T17:21:04.021Z  2019-07-25T00:00:00Z  \n",
       "3     2019-12-26T17:26:31.459Z  2019-06-03T00:00:00Z  \n",
       "4     2019-12-26T17:21:05.065Z  2019-04-01T00:00:00Z  \n",
       "...                        ...                   ...  \n",
       "9911  2019-12-26T18:09:36.081Z  2019-10-15T18:14:00Z  \n",
       "9912  2019-12-26T17:26:33.135Z  2019-06-09T00:00:00Z  \n",
       "9913  2019-12-26T17:22:16.350Z  2019-07-25T00:00:00Z  \n",
       "9914  2019-12-26T17:22:16.394Z  2019-05-01T00:00:00Z  \n",
       "9915  2019-12-26T17:26:32.823Z  2019-06-09T00:00:00Z  \n",
       "\n",
       "[9916 rows x 6 columns]"
      ]
     },
     "execution_count": 4,
     "metadata": {},
     "output_type": "execute_result"
    }
   ],
   "source": [
    "leads1 = leads.drop(['id', 'userId', 'name', 'phoneNumber'], axis=1)\n",
    "leads1"
   ]
  },
  {
   "cell_type": "markdown",
   "metadata": {},
   "source": [
    "### Handle Datatype and Missing Values\n",
    "\n",
    "1. find how many missing values are there in city, state, source and isExternal\n",
    "2. convert createdAt and receivedAt feature to datetime datatype\n",
    "3. convert boolean isExternal into 0 and 1 integer datatype"
   ]
  },
  {
   "cell_type": "code",
   "execution_count": 5,
   "metadata": {},
   "outputs": [
    {
     "data": {
      "text/plain": [
       "city          object\n",
       "state         object\n",
       "source        object\n",
       "isExternal      bool\n",
       "createdAt     object\n",
       "receivedAt    object\n",
       "dtype: object"
      ]
     },
     "execution_count": 5,
     "metadata": {},
     "output_type": "execute_result"
    }
   ],
   "source": [
    "leads1.dtypes"
   ]
  },
  {
   "cell_type": "code",
   "execution_count": 6,
   "metadata": {},
   "outputs": [
    {
     "data": {
      "text/plain": [
       "city                       object\n",
       "state                      object\n",
       "source                     object\n",
       "isExternal                  int32\n",
       "createdAt     datetime64[ns, UTC]\n",
       "receivedAt    datetime64[ns, UTC]\n",
       "dtype: object"
      ]
     },
     "execution_count": 6,
     "metadata": {},
     "output_type": "execute_result"
    }
   ],
   "source": [
    "leads1['createdAt'] = pd.to_datetime(leads1['createdAt'])\n",
    "leads1['receivedAt'] = pd.to_datetime(leads1['receivedAt'])\n",
    "leads1.isExternal = leads1.isExternal.astype(int)\n",
    "leads1.dtypes"
   ]
  },
  {
   "cell_type": "markdown",
   "metadata": {},
   "source": [
    "### Insights\n",
    " * We have to take <b>city</b> name as well while creating data because around <b>7.5 % </b> data doesn't have city mensioned\n",
    " * Overall We are doing good in <b>Hyderabad, Bangalore, Chennai, Delhi/NCR, Mumbai, Delhi, Mysore</b>\n",
    " * But We also need to improve in other cities as well"
   ]
  },
  {
   "cell_type": "code",
   "execution_count": 7,
   "metadata": {},
   "outputs": [
    {
     "data": {
      "text/plain": [
       "Hyderabad      3413\n",
       "Bangalore      2273\n",
       "Chennai        1282\n",
       "Delhi/NCR       894\n",
       "Mumbai          536\n",
       "Delhi           353\n",
       "Mysore          173\n",
       "Pondicherry      21\n",
       "Patna            21\n",
       "Kerala           20\n",
       "Name: city, dtype: int64"
      ]
     },
     "execution_count": 7,
     "metadata": {},
     "output_type": "execute_result"
    }
   ],
   "source": [
    "# leads1['city'].isnull().sum() ## 738 ## 7.44%\n",
    "# leads1['city'].nunique() ## 61\n",
    "leads1['city'].value_counts().head(10)"
   ]
  },
  {
   "cell_type": "markdown",
   "metadata": {},
   "source": [
    "### Insights\n",
    " * We have to take <b>state</b> name as well while creating data because around <b>14 %</b> data doesn't have state mensioned\n",
    " * Overall We are doing good in <b>Telangana, Karnataka, Tamilnadu, Delhi, Maharashta</b>\n",
    " * But We also need to improve in other states as well"
   ]
  },
  {
   "cell_type": "code",
   "execution_count": 8,
   "metadata": {},
   "outputs": [
    {
     "data": {
      "text/plain": [
       "Telangana         3426\n",
       "Karnataka         1990\n",
       "Tamil Nadu        1243\n",
       "Delhi             1200\n",
       "Maharashtra        541\n",
       "Delhi-NCR           52\n",
       "Andhra Pradesh      26\n",
       "Bihar               23\n",
       "West Bengal          7\n",
       "Assam                6\n",
       "Name: state, dtype: int64"
      ]
     },
     "execution_count": 8,
     "metadata": {},
     "output_type": "execute_result"
    }
   ],
   "source": [
    "# leads1['state'].isnull().sum() ## 1380 ## 13.91%\n",
    "# leads1['state'].nunique() ## 20\n",
    "leads1['state'].value_counts().head(10)"
   ]
  },
  {
   "cell_type": "markdown",
   "metadata": {},
   "source": [
    "### Insights\n",
    " * <b>Referrals, API, WhatsApp OptIn Form, Facebook</b> are the main sources of leads"
   ]
  },
  {
   "cell_type": "code",
   "execution_count": 9,
   "metadata": {},
   "outputs": [
    {
     "data": {
      "text/plain": [
       "Referrals                          3656\n",
       "API                                1233\n",
       "WhatsApp OptIn Form                1138\n",
       "Facebook                            654\n",
       "unknown                             369\n",
       "Airavatha data                      319\n",
       "delhi-lal-july-30-1mil-b3           245\n",
       "Reused Leads                        231\n",
       "Web Chat Referrals                  177\n",
       "delhi-lal-july-29-1mil-b2           175\n",
       "delhi-lal-july-31-1mil-b4           154\n",
       "Sandeep                             101\n",
       "delhi-lal-july-26-1mil-rep           91\n",
       "Ubereats Existing list               79\n",
       "delhi-lal-july-26-1mil               78\n",
       "CorpW                                65\n",
       "lynk-mas-qkr-oct3                    54\n",
       "atl-reeng-sms                        50\n",
       "blr-nrby-aug-2                       49\n",
       "Delivery_lynk_che_tam_08 Nov 19      45\n",
       "Name: source, dtype: int64"
      ]
     },
     "execution_count": 9,
     "metadata": {},
     "output_type": "execute_result"
    }
   ],
   "source": [
    "# leads1['source'].isnull().sum() ## 2\n",
    "# leads1['source'].nunique() ##108\n",
    "leads1['source'].value_counts().head(20)"
   ]
  },
  {
   "cell_type": "markdown",
   "metadata": {},
   "source": [
    "### Insights 1\n",
    "\n",
    "* We have <b>13.58 %</b> External leads. This needs to be minimised.\n",
    "* We can also have a look from which cities or states these leads coming from, So that We can improve in those cities"
   ]
  },
  {
   "cell_type": "code",
   "execution_count": 10,
   "metadata": {},
   "outputs": [
    {
     "data": {
      "text/plain": [
       "0    86.415894\n",
       "1    13.584106\n",
       "Name: isExternal, dtype: float64"
      ]
     },
     "execution_count": 10,
     "metadata": {},
     "output_type": "execute_result"
    }
   ],
   "source": [
    "# leads1['isExternal'].isnull().sum() ## 0\n",
    "# leads1['isExternal'].nunique() ##2\n",
    "leads1['isExternal'].value_counts(normalize=True)*100"
   ]
  },
  {
   "cell_type": "code",
   "execution_count": 11,
   "metadata": {},
   "outputs": [],
   "source": [
    "leads2 = leads1[['city', 'isExternal', 'source']].groupby(['city','isExternal']).count()\n",
    "leads2 = leads2.reset_index()\n",
    "leads2 = leads2.pivot(index='city', columns='isExternal', values='source')\n",
    "del leads2.columns.name\n",
    "leads2 = leads2.reset_index()\n",
    "leads2.columns=['city', 'LeadsByJobAssist', 'LeadsByExternal']"
   ]
  },
  {
   "cell_type": "markdown",
   "metadata": {},
   "source": [
    "### Insights 2 Citywise Performance\n",
    "\n",
    " * We have are doing good in <b>Hyderabad, Bengalore, Chennai, Delhi/NCR, Mumbai and Delhi</b>"
   ]
  },
  {
   "cell_type": "code",
   "execution_count": 12,
   "metadata": {},
   "outputs": [
    {
     "data": {
      "text/html": [
       "<div>\n",
       "<style scoped>\n",
       "    .dataframe tbody tr th:only-of-type {\n",
       "        vertical-align: middle;\n",
       "    }\n",
       "\n",
       "    .dataframe tbody tr th {\n",
       "        vertical-align: top;\n",
       "    }\n",
       "\n",
       "    .dataframe thead th {\n",
       "        text-align: right;\n",
       "    }\n",
       "</style>\n",
       "<table border=\"1\" class=\"dataframe\">\n",
       "  <thead>\n",
       "    <tr style=\"text-align: right;\">\n",
       "      <th></th>\n",
       "      <th>index</th>\n",
       "      <th>city</th>\n",
       "      <th>LeadsByJobAssist</th>\n",
       "      <th>LeadsByExternal</th>\n",
       "    </tr>\n",
       "  </thead>\n",
       "  <tbody>\n",
       "    <tr>\n",
       "      <th>0</th>\n",
       "      <td>20</td>\n",
       "      <td>Hyderabad</td>\n",
       "      <td>3374.0</td>\n",
       "      <td>39.0</td>\n",
       "    </tr>\n",
       "    <tr>\n",
       "      <th>1</th>\n",
       "      <td>4</td>\n",
       "      <td>Bangalore</td>\n",
       "      <td>1678.0</td>\n",
       "      <td>593.0</td>\n",
       "    </tr>\n",
       "    <tr>\n",
       "      <th>2</th>\n",
       "      <td>11</td>\n",
       "      <td>Chennai</td>\n",
       "      <td>1219.0</td>\n",
       "      <td>63.0</td>\n",
       "    </tr>\n",
       "    <tr>\n",
       "      <th>3</th>\n",
       "      <td>16</td>\n",
       "      <td>Delhi/NCR</td>\n",
       "      <td>891.0</td>\n",
       "      <td>3.0</td>\n",
       "    </tr>\n",
       "    <tr>\n",
       "      <th>4</th>\n",
       "      <td>37</td>\n",
       "      <td>Mumbai</td>\n",
       "      <td>536.0</td>\n",
       "      <td>NaN</td>\n",
       "    </tr>\n",
       "    <tr>\n",
       "      <th>5</th>\n",
       "      <td>15</td>\n",
       "      <td>Delhi</td>\n",
       "      <td>352.0</td>\n",
       "      <td>1.0</td>\n",
       "    </tr>\n",
       "    <tr>\n",
       "      <th>6</th>\n",
       "      <td>42</td>\n",
       "      <td>Patna</td>\n",
       "      <td>21.0</td>\n",
       "      <td>NaN</td>\n",
       "    </tr>\n",
       "    <tr>\n",
       "      <th>7</th>\n",
       "      <td>13</td>\n",
       "      <td>Coimbatore</td>\n",
       "      <td>16.0</td>\n",
       "      <td>4.0</td>\n",
       "    </tr>\n",
       "    <tr>\n",
       "      <th>8</th>\n",
       "      <td>57</td>\n",
       "      <td>Warangal</td>\n",
       "      <td>10.0</td>\n",
       "      <td>2.0</td>\n",
       "    </tr>\n",
       "    <tr>\n",
       "      <th>9</th>\n",
       "      <td>26</td>\n",
       "      <td>Karimnagar</td>\n",
       "      <td>9.0</td>\n",
       "      <td>NaN</td>\n",
       "    </tr>\n",
       "  </tbody>\n",
       "</table>\n",
       "</div>"
      ],
      "text/plain": [
       "   index        city  LeadsByJobAssist  LeadsByExternal\n",
       "0     20   Hyderabad            3374.0             39.0\n",
       "1      4   Bangalore            1678.0            593.0\n",
       "2     11     Chennai            1219.0             63.0\n",
       "3     16   Delhi/NCR             891.0              3.0\n",
       "4     37      Mumbai             536.0              NaN\n",
       "5     15       Delhi             352.0              1.0\n",
       "6     42       Patna              21.0              NaN\n",
       "7     13  Coimbatore              16.0              4.0\n",
       "8     57    Warangal              10.0              2.0\n",
       "9     26  Karimnagar               9.0              NaN"
      ]
     },
     "execution_count": 12,
     "metadata": {},
     "output_type": "execute_result"
    }
   ],
   "source": [
    "leads20 = leads2.sort_values(by='LeadsByJobAssist', ascending=False)\n",
    "leads20.reset_index(inplace=True)\n",
    "# leads20.to_csv('leads20.csv', index=False)\n",
    "leads20.head(10)"
   ]
  },
  {
   "cell_type": "markdown",
   "metadata": {},
   "source": [
    "### Insights 3 Citywise Improvements\n",
    "\n",
    " * We need to improve in <b>Bangalore and Mysore</b>"
   ]
  },
  {
   "cell_type": "code",
   "execution_count": 13,
   "metadata": {},
   "outputs": [
    {
     "data": {
      "text/html": [
       "<div>\n",
       "<style scoped>\n",
       "    .dataframe tbody tr th:only-of-type {\n",
       "        vertical-align: middle;\n",
       "    }\n",
       "\n",
       "    .dataframe tbody tr th {\n",
       "        vertical-align: top;\n",
       "    }\n",
       "\n",
       "    .dataframe thead th {\n",
       "        text-align: right;\n",
       "    }\n",
       "</style>\n",
       "<table border=\"1\" class=\"dataframe\">\n",
       "  <thead>\n",
       "    <tr style=\"text-align: right;\">\n",
       "      <th></th>\n",
       "      <th>index</th>\n",
       "      <th>city</th>\n",
       "      <th>LeadsByJobAssist</th>\n",
       "      <th>LeadsByExternal</th>\n",
       "    </tr>\n",
       "  </thead>\n",
       "  <tbody>\n",
       "    <tr>\n",
       "      <th>0</th>\n",
       "      <td>4</td>\n",
       "      <td>Bangalore</td>\n",
       "      <td>1678.0</td>\n",
       "      <td>593.0</td>\n",
       "    </tr>\n",
       "    <tr>\n",
       "      <th>1</th>\n",
       "      <td>38</td>\n",
       "      <td>Mysore</td>\n",
       "      <td>4.0</td>\n",
       "      <td>169.0</td>\n",
       "    </tr>\n",
       "    <tr>\n",
       "      <th>2</th>\n",
       "      <td>11</td>\n",
       "      <td>Chennai</td>\n",
       "      <td>1219.0</td>\n",
       "      <td>63.0</td>\n",
       "    </tr>\n",
       "    <tr>\n",
       "      <th>3</th>\n",
       "      <td>20</td>\n",
       "      <td>Hyderabad</td>\n",
       "      <td>3374.0</td>\n",
       "      <td>39.0</td>\n",
       "    </tr>\n",
       "    <tr>\n",
       "      <th>4</th>\n",
       "      <td>43</td>\n",
       "      <td>Pondicherry</td>\n",
       "      <td>NaN</td>\n",
       "      <td>21.0</td>\n",
       "    </tr>\n",
       "    <tr>\n",
       "      <th>5</th>\n",
       "      <td>27</td>\n",
       "      <td>Kerala</td>\n",
       "      <td>NaN</td>\n",
       "      <td>20.0</td>\n",
       "    </tr>\n",
       "    <tr>\n",
       "      <th>6</th>\n",
       "      <td>7</td>\n",
       "      <td>Belagavi</td>\n",
       "      <td>NaN</td>\n",
       "      <td>12.0</td>\n",
       "    </tr>\n",
       "    <tr>\n",
       "      <th>7</th>\n",
       "      <td>58</td>\n",
       "      <td>Yadhgirir</td>\n",
       "      <td>NaN</td>\n",
       "      <td>10.0</td>\n",
       "    </tr>\n",
       "    <tr>\n",
       "      <th>8</th>\n",
       "      <td>33</td>\n",
       "      <td>Madurai</td>\n",
       "      <td>5.0</td>\n",
       "      <td>6.0</td>\n",
       "    </tr>\n",
       "    <tr>\n",
       "      <th>9</th>\n",
       "      <td>0</td>\n",
       "      <td>Ahmedabad</td>\n",
       "      <td>1.0</td>\n",
       "      <td>6.0</td>\n",
       "    </tr>\n",
       "  </tbody>\n",
       "</table>\n",
       "</div>"
      ],
      "text/plain": [
       "   index         city  LeadsByJobAssist  LeadsByExternal\n",
       "0      4    Bangalore            1678.0            593.0\n",
       "1     38       Mysore               4.0            169.0\n",
       "2     11      Chennai            1219.0             63.0\n",
       "3     20    Hyderabad            3374.0             39.0\n",
       "4     43  Pondicherry               NaN             21.0\n",
       "5     27       Kerala               NaN             20.0\n",
       "6      7     Belagavi               NaN             12.0\n",
       "7     58    Yadhgirir               NaN             10.0\n",
       "8     33      Madurai               5.0              6.0\n",
       "9      0    Ahmedabad               1.0              6.0"
      ]
     },
     "execution_count": 13,
     "metadata": {},
     "output_type": "execute_result"
    }
   ],
   "source": [
    "leads21 = leads2.sort_values(by='LeadsByExternal', ascending=False)\n",
    "leads21.reset_index(inplace=True)\n",
    "# leads21.to_csv('leads21.csv', index=False)\n",
    "leads21.head(10)"
   ]
  },
  {
   "cell_type": "code",
   "execution_count": 14,
   "metadata": {},
   "outputs": [],
   "source": [
    "leads3 = leads1[['state', 'isExternal', 'source']].groupby(['state','isExternal']).count()\n",
    "leads3 = leads3.reset_index()\n",
    "leads3 = leads3.pivot(index='state', columns='isExternal', values='source')\n",
    "del leads3.columns.name\n",
    "leads3 = leads3.reset_index()\n",
    "leads3.columns=['state', 'LeadsByJobAssist', 'LeadsByExternal']"
   ]
  },
  {
   "cell_type": "markdown",
   "metadata": {},
   "source": [
    "### Insights 4 Statewise Performance\n",
    "\n",
    " * We are doing good in <b>Telangana, Karnataka, Tamilnadu, Delhi, Maharashtra</b>"
   ]
  },
  {
   "cell_type": "code",
   "execution_count": 15,
   "metadata": {},
   "outputs": [
    {
     "data": {
      "text/html": [
       "<div>\n",
       "<style scoped>\n",
       "    .dataframe tbody tr th:only-of-type {\n",
       "        vertical-align: middle;\n",
       "    }\n",
       "\n",
       "    .dataframe tbody tr th {\n",
       "        vertical-align: top;\n",
       "    }\n",
       "\n",
       "    .dataframe thead th {\n",
       "        text-align: right;\n",
       "    }\n",
       "</style>\n",
       "<table border=\"1\" class=\"dataframe\">\n",
       "  <thead>\n",
       "    <tr style=\"text-align: right;\">\n",
       "      <th></th>\n",
       "      <th>state</th>\n",
       "      <th>LeadsByJobAssist</th>\n",
       "      <th>LeadsByExternal</th>\n",
       "    </tr>\n",
       "  </thead>\n",
       "  <tbody>\n",
       "    <tr>\n",
       "      <th>16</th>\n",
       "      <td>Telangana</td>\n",
       "      <td>3394.0</td>\n",
       "      <td>32.0</td>\n",
       "    </tr>\n",
       "    <tr>\n",
       "      <th>9</th>\n",
       "      <td>Karnataka</td>\n",
       "      <td>1662.0</td>\n",
       "      <td>326.0</td>\n",
       "    </tr>\n",
       "    <tr>\n",
       "      <th>14</th>\n",
       "      <td>Tamil Nadu</td>\n",
       "      <td>1242.0</td>\n",
       "      <td>1.0</td>\n",
       "    </tr>\n",
       "    <tr>\n",
       "      <th>6</th>\n",
       "      <td>Delhi</td>\n",
       "      <td>1196.0</td>\n",
       "      <td>4.0</td>\n",
       "    </tr>\n",
       "    <tr>\n",
       "      <th>10</th>\n",
       "      <td>Maharashtra</td>\n",
       "      <td>541.0</td>\n",
       "      <td>NaN</td>\n",
       "    </tr>\n",
       "    <tr>\n",
       "      <th>7</th>\n",
       "      <td>Delhi-NCR</td>\n",
       "      <td>52.0</td>\n",
       "      <td>NaN</td>\n",
       "    </tr>\n",
       "    <tr>\n",
       "      <th>1</th>\n",
       "      <td>Andhra Pradesh</td>\n",
       "      <td>26.0</td>\n",
       "      <td>NaN</td>\n",
       "    </tr>\n",
       "    <tr>\n",
       "      <th>4</th>\n",
       "      <td>Bihar</td>\n",
       "      <td>23.0</td>\n",
       "      <td>NaN</td>\n",
       "    </tr>\n",
       "    <tr>\n",
       "      <th>19</th>\n",
       "      <td>West Bengal</td>\n",
       "      <td>7.0</td>\n",
       "      <td>NaN</td>\n",
       "    </tr>\n",
       "    <tr>\n",
       "      <th>2</th>\n",
       "      <td>Assam</td>\n",
       "      <td>6.0</td>\n",
       "      <td>NaN</td>\n",
       "    </tr>\n",
       "  </tbody>\n",
       "</table>\n",
       "</div>"
      ],
      "text/plain": [
       "             state  LeadsByJobAssist  LeadsByExternal\n",
       "16       Telangana            3394.0             32.0\n",
       "9        Karnataka            1662.0            326.0\n",
       "14      Tamil Nadu            1242.0              1.0\n",
       "6            Delhi            1196.0              4.0\n",
       "10     Maharashtra             541.0              NaN\n",
       "7        Delhi-NCR              52.0              NaN\n",
       "1   Andhra Pradesh              26.0              NaN\n",
       "4            Bihar              23.0              NaN\n",
       "19     West Bengal               7.0              NaN\n",
       "2            Assam               6.0              NaN"
      ]
     },
     "execution_count": 15,
     "metadata": {},
     "output_type": "execute_result"
    }
   ],
   "source": [
    "leads30 = leads3.sort_values(by='LeadsByJobAssist', ascending=False)\n",
    "# leads30.to_csv('leads30.csv', index=False)\n",
    "leads30.head(10)"
   ]
  },
  {
   "cell_type": "markdown",
   "metadata": {},
   "source": [
    "### Insights 5 Statewise Improvements\n",
    "\n",
    " * We need to improve in <b>Karnataka</b>"
   ]
  },
  {
   "cell_type": "code",
   "execution_count": 16,
   "metadata": {},
   "outputs": [
    {
     "data": {
      "text/html": [
       "<div>\n",
       "<style scoped>\n",
       "    .dataframe tbody tr th:only-of-type {\n",
       "        vertical-align: middle;\n",
       "    }\n",
       "\n",
       "    .dataframe tbody tr th {\n",
       "        vertical-align: top;\n",
       "    }\n",
       "\n",
       "    .dataframe thead th {\n",
       "        text-align: right;\n",
       "    }\n",
       "</style>\n",
       "<table border=\"1\" class=\"dataframe\">\n",
       "  <thead>\n",
       "    <tr style=\"text-align: right;\">\n",
       "      <th></th>\n",
       "      <th>state</th>\n",
       "      <th>LeadsByJobAssist</th>\n",
       "      <th>LeadsByExternal</th>\n",
       "    </tr>\n",
       "  </thead>\n",
       "  <tbody>\n",
       "    <tr>\n",
       "      <th>9</th>\n",
       "      <td>Karnataka</td>\n",
       "      <td>1662.0</td>\n",
       "      <td>326.0</td>\n",
       "    </tr>\n",
       "    <tr>\n",
       "      <th>16</th>\n",
       "      <td>Telangana</td>\n",
       "      <td>3394.0</td>\n",
       "      <td>32.0</td>\n",
       "    </tr>\n",
       "    <tr>\n",
       "      <th>6</th>\n",
       "      <td>Delhi</td>\n",
       "      <td>1196.0</td>\n",
       "      <td>4.0</td>\n",
       "    </tr>\n",
       "    <tr>\n",
       "      <th>14</th>\n",
       "      <td>Tamil Nadu</td>\n",
       "      <td>1242.0</td>\n",
       "      <td>1.0</td>\n",
       "    </tr>\n",
       "    <tr>\n",
       "      <th>15</th>\n",
       "      <td>Tamilnadu</td>\n",
       "      <td>NaN</td>\n",
       "      <td>1.0</td>\n",
       "    </tr>\n",
       "    <tr>\n",
       "      <th>18</th>\n",
       "      <td>Uttar Pradesh</td>\n",
       "      <td>3.0</td>\n",
       "      <td>1.0</td>\n",
       "    </tr>\n",
       "    <tr>\n",
       "      <th>0</th>\n",
       "      <td>#REF!</td>\n",
       "      <td>1.0</td>\n",
       "      <td>NaN</td>\n",
       "    </tr>\n",
       "    <tr>\n",
       "      <th>1</th>\n",
       "      <td>Andhra Pradesh</td>\n",
       "      <td>26.0</td>\n",
       "      <td>NaN</td>\n",
       "    </tr>\n",
       "    <tr>\n",
       "      <th>2</th>\n",
       "      <td>Assam</td>\n",
       "      <td>6.0</td>\n",
       "      <td>NaN</td>\n",
       "    </tr>\n",
       "    <tr>\n",
       "      <th>3</th>\n",
       "      <td>Bangalore</td>\n",
       "      <td>1.0</td>\n",
       "      <td>NaN</td>\n",
       "    </tr>\n",
       "  </tbody>\n",
       "</table>\n",
       "</div>"
      ],
      "text/plain": [
       "             state  LeadsByJobAssist  LeadsByExternal\n",
       "9        Karnataka            1662.0            326.0\n",
       "16       Telangana            3394.0             32.0\n",
       "6            Delhi            1196.0              4.0\n",
       "14      Tamil Nadu            1242.0              1.0\n",
       "15       Tamilnadu               NaN              1.0\n",
       "18   Uttar Pradesh               3.0              1.0\n",
       "0            #REF!               1.0              NaN\n",
       "1   Andhra Pradesh              26.0              NaN\n",
       "2            Assam               6.0              NaN\n",
       "3        Bangalore               1.0              NaN"
      ]
     },
     "execution_count": 16,
     "metadata": {},
     "output_type": "execute_result"
    }
   ],
   "source": [
    "leads31 = leads3.sort_values(by='LeadsByExternal', ascending=False)\n",
    "# leads31.to_csv('leads31.csv', index=False)\n",
    "leads31.head(10)"
   ]
  },
  {
   "cell_type": "markdown",
   "metadata": {},
   "source": [
    "### Insights 6 Duration between when lead was received by us and the time of creation of the table enry\n",
    "\n",
    " * Maximun <b>317 days</b>\n",
    " * Minimum <b>27 days</b>\n",
    " * Average <b>162 days</b>\n",
    " * We need to <b>minimise this duration</b>, i.e, we must get the entries in table as early we receive the leads as possible"
   ]
  },
  {
   "cell_type": "code",
   "execution_count": 17,
   "metadata": {},
   "outputs": [
    {
     "name": "stdout",
     "output_type": "stream",
     "text": [
      "317\n",
      "27\n",
      "162.6668011294877\n"
     ]
    },
    {
     "data": {
      "text/html": [
       "<div>\n",
       "<style scoped>\n",
       "    .dataframe tbody tr th:only-of-type {\n",
       "        vertical-align: middle;\n",
       "    }\n",
       "\n",
       "    .dataframe tbody tr th {\n",
       "        vertical-align: top;\n",
       "    }\n",
       "\n",
       "    .dataframe thead th {\n",
       "        text-align: right;\n",
       "    }\n",
       "</style>\n",
       "<table border=\"1\" class=\"dataframe\">\n",
       "  <thead>\n",
       "    <tr style=\"text-align: right;\">\n",
       "      <th></th>\n",
       "      <th>city</th>\n",
       "      <th>state</th>\n",
       "      <th>source</th>\n",
       "      <th>isExternal</th>\n",
       "      <th>createdAt</th>\n",
       "      <th>receivedAt</th>\n",
       "      <th>duration</th>\n",
       "    </tr>\n",
       "  </thead>\n",
       "  <tbody>\n",
       "    <tr>\n",
       "      <th>0</th>\n",
       "      <td>NaN</td>\n",
       "      <td>NaN</td>\n",
       "      <td>Airavatha data</td>\n",
       "      <td>1</td>\n",
       "      <td>2019-12-26 18:17:13.115000+00:00</td>\n",
       "      <td>2019-11-01 05:41:00+00:00</td>\n",
       "      <td>55</td>\n",
       "    </tr>\n",
       "    <tr>\n",
       "      <th>1</th>\n",
       "      <td>Delhi/NCR</td>\n",
       "      <td>Delhi-NCR</td>\n",
       "      <td>delhi-18-33yo-10-15k-hdat-july-17</td>\n",
       "      <td>0</td>\n",
       "      <td>2019-12-26 17:49:53.471000+00:00</td>\n",
       "      <td>2019-08-25 00:00:00+00:00</td>\n",
       "      <td>123</td>\n",
       "    </tr>\n",
       "    <tr>\n",
       "      <th>2</th>\n",
       "      <td>Hyderabad</td>\n",
       "      <td>Telangana</td>\n",
       "      <td>WhatsApp OptIn Form</td>\n",
       "      <td>0</td>\n",
       "      <td>2019-12-26 17:21:04.021000+00:00</td>\n",
       "      <td>2019-07-25 00:00:00+00:00</td>\n",
       "      <td>154</td>\n",
       "    </tr>\n",
       "    <tr>\n",
       "      <th>3</th>\n",
       "      <td>Hyderabad</td>\n",
       "      <td>Telangana</td>\n",
       "      <td>Referrals</td>\n",
       "      <td>0</td>\n",
       "      <td>2019-12-26 17:26:31.459000+00:00</td>\n",
       "      <td>2019-06-03 00:00:00+00:00</td>\n",
       "      <td>206</td>\n",
       "    </tr>\n",
       "    <tr>\n",
       "      <th>4</th>\n",
       "      <td>Bangalore</td>\n",
       "      <td>Karnataka</td>\n",
       "      <td>Reused Leads</td>\n",
       "      <td>0</td>\n",
       "      <td>2019-12-26 17:21:05.065000+00:00</td>\n",
       "      <td>2019-04-01 00:00:00+00:00</td>\n",
       "      <td>269</td>\n",
       "    </tr>\n",
       "    <tr>\n",
       "      <th>...</th>\n",
       "      <td>...</td>\n",
       "      <td>...</td>\n",
       "      <td>...</td>\n",
       "      <td>...</td>\n",
       "      <td>...</td>\n",
       "      <td>...</td>\n",
       "      <td>...</td>\n",
       "    </tr>\n",
       "    <tr>\n",
       "      <th>9911</th>\n",
       "      <td>Chennai</td>\n",
       "      <td>Tamil Nadu</td>\n",
       "      <td>Quikr_Zomato_Chennai</td>\n",
       "      <td>0</td>\n",
       "      <td>2019-12-26 18:09:36.081000+00:00</td>\n",
       "      <td>2019-10-15 18:14:00+00:00</td>\n",
       "      <td>71</td>\n",
       "    </tr>\n",
       "    <tr>\n",
       "      <th>9912</th>\n",
       "      <td>Chennai</td>\n",
       "      <td>Tamil Nadu</td>\n",
       "      <td>Referrals</td>\n",
       "      <td>0</td>\n",
       "      <td>2019-12-26 17:26:33.135000+00:00</td>\n",
       "      <td>2019-06-09 00:00:00+00:00</td>\n",
       "      <td>200</td>\n",
       "    </tr>\n",
       "    <tr>\n",
       "      <th>9913</th>\n",
       "      <td>Hyderabad</td>\n",
       "      <td>Telangana</td>\n",
       "      <td>API</td>\n",
       "      <td>0</td>\n",
       "      <td>2019-12-26 17:22:16.350000+00:00</td>\n",
       "      <td>2019-07-25 00:00:00+00:00</td>\n",
       "      <td>154</td>\n",
       "    </tr>\n",
       "    <tr>\n",
       "      <th>9914</th>\n",
       "      <td>Hyderabad</td>\n",
       "      <td>Telangana</td>\n",
       "      <td>Web Chat Referrals</td>\n",
       "      <td>0</td>\n",
       "      <td>2019-12-26 17:22:16.394000+00:00</td>\n",
       "      <td>2019-05-01 00:00:00+00:00</td>\n",
       "      <td>239</td>\n",
       "    </tr>\n",
       "    <tr>\n",
       "      <th>9915</th>\n",
       "      <td>Bangalore</td>\n",
       "      <td>Karnataka</td>\n",
       "      <td>Referrals</td>\n",
       "      <td>0</td>\n",
       "      <td>2019-12-26 17:26:32.823000+00:00</td>\n",
       "      <td>2019-06-09 00:00:00+00:00</td>\n",
       "      <td>200</td>\n",
       "    </tr>\n",
       "  </tbody>\n",
       "</table>\n",
       "<p>9916 rows × 7 columns</p>\n",
       "</div>"
      ],
      "text/plain": [
       "           city       state                             source  isExternal  \\\n",
       "0           NaN         NaN                     Airavatha data           1   \n",
       "1     Delhi/NCR   Delhi-NCR  delhi-18-33yo-10-15k-hdat-july-17           0   \n",
       "2     Hyderabad   Telangana                WhatsApp OptIn Form           0   \n",
       "3     Hyderabad   Telangana                          Referrals           0   \n",
       "4     Bangalore   Karnataka                       Reused Leads           0   \n",
       "...         ...         ...                                ...         ...   \n",
       "9911    Chennai  Tamil Nadu               Quikr_Zomato_Chennai           0   \n",
       "9912    Chennai  Tamil Nadu                          Referrals           0   \n",
       "9913  Hyderabad   Telangana                                API           0   \n",
       "9914  Hyderabad   Telangana                 Web Chat Referrals           0   \n",
       "9915  Bangalore   Karnataka                          Referrals           0   \n",
       "\n",
       "                            createdAt                receivedAt  duration  \n",
       "0    2019-12-26 18:17:13.115000+00:00 2019-11-01 05:41:00+00:00        55  \n",
       "1    2019-12-26 17:49:53.471000+00:00 2019-08-25 00:00:00+00:00       123  \n",
       "2    2019-12-26 17:21:04.021000+00:00 2019-07-25 00:00:00+00:00       154  \n",
       "3    2019-12-26 17:26:31.459000+00:00 2019-06-03 00:00:00+00:00       206  \n",
       "4    2019-12-26 17:21:05.065000+00:00 2019-04-01 00:00:00+00:00       269  \n",
       "...                               ...                       ...       ...  \n",
       "9911 2019-12-26 18:09:36.081000+00:00 2019-10-15 18:14:00+00:00        71  \n",
       "9912 2019-12-26 17:26:33.135000+00:00 2019-06-09 00:00:00+00:00       200  \n",
       "9913 2019-12-26 17:22:16.350000+00:00 2019-07-25 00:00:00+00:00       154  \n",
       "9914 2019-12-26 17:22:16.394000+00:00 2019-05-01 00:00:00+00:00       239  \n",
       "9915 2019-12-26 17:26:32.823000+00:00 2019-06-09 00:00:00+00:00       200  \n",
       "\n",
       "[9916 rows x 7 columns]"
      ]
     },
     "execution_count": 17,
     "metadata": {},
     "output_type": "execute_result"
    }
   ],
   "source": [
    "leads1['duration'] = pd.to_timedelta(leads1['createdAt'] - leads1['receivedAt'])\n",
    "leads1['duration'] = leads1['duration'].dt.days\n",
    "print(leads1['duration'].max())\n",
    "print(leads1['duration'].min())\n",
    "print(leads1['duration'].mean())\n",
    "leads1"
   ]
  },
  {
   "cell_type": "code",
   "execution_count": 18,
   "metadata": {},
   "outputs": [],
   "source": [
    "leads1.drop(['duration'], axis=1, inplace=True)\n",
    "leads11 = leads1.copy()"
   ]
  },
  {
   "cell_type": "markdown",
   "metadata": {},
   "source": [
    "### Insights 7 When did entries created in the table\n",
    "\n",
    " * on 26 Dec 2019 between 17:00 to 19:00"
   ]
  },
  {
   "cell_type": "code",
   "execution_count": 19,
   "metadata": {},
   "outputs": [
    {
     "data": {
      "text/plain": [
       "26    9916\n",
       "Name: createdAt_day, dtype: int64"
      ]
     },
     "execution_count": 19,
     "metadata": {},
     "output_type": "execute_result"
    }
   ],
   "source": [
    "leads11['createdAt_day'] = leads11['createdAt'].dt.day\n",
    "leads11['createdAt_day'].value_counts()"
   ]
  },
  {
   "cell_type": "code",
   "execution_count": 20,
   "metadata": {},
   "outputs": [
    {
     "data": {
      "text/plain": [
       "17    7696\n",
       "18    2220\n",
       "Name: createdAt_hour, dtype: int64"
      ]
     },
     "execution_count": 20,
     "metadata": {},
     "output_type": "execute_result"
    }
   ],
   "source": [
    "leads11['createdAt_hour'] = leads11['createdAt'].dt.hour\n",
    "leads11['createdAt_hour'].value_counts()"
   ]
  },
  {
   "cell_type": "markdown",
   "metadata": {},
   "source": [
    "### Insights 8 When the leads was received by us\n",
    "\n",
    " * Dates are between <b>12 feb 2019 to 29 Nov 2019</b>\n",
    " * Majority of people received on <b>2019-07-25, 2019-05-01, 2019-04-01, 2019-11-01, 2019-08-01, 2019-07-30, 2019-06-09, 2019-06-08, 2019-08-02, 2019-11-03</b> respectively"
   ]
  },
  {
   "cell_type": "code",
   "execution_count": 21,
   "metadata": {},
   "outputs": [
    {
     "data": {
      "text/plain": [
       "2019-07-25    2283\n",
       "2019-05-01    1548\n",
       "2019-04-01     627\n",
       "2019-11-01     582\n",
       "2019-08-01     371\n",
       "2019-07-30     283\n",
       "2019-06-09     269\n",
       "2019-06-08     250\n",
       "2019-08-02     231\n",
       "2019-11-03     201\n",
       "Name: receivedAt_date, dtype: int64"
      ]
     },
     "execution_count": 21,
     "metadata": {},
     "output_type": "execute_result"
    }
   ],
   "source": [
    "leads11['receivedAt_date'] = leads11['receivedAt'].dt.date\n",
    "leads11['receivedAt_date'].value_counts().head(10)"
   ]
  },
  {
   "cell_type": "code",
   "execution_count": 22,
   "metadata": {},
   "outputs": [
    {
     "data": {
      "text/plain": [
       "datetime.date(2019, 2, 12)"
      ]
     },
     "execution_count": 22,
     "metadata": {},
     "output_type": "execute_result"
    }
   ],
   "source": [
    "leads11['receivedAt_date'].min()"
   ]
  },
  {
   "cell_type": "code",
   "execution_count": 23,
   "metadata": {},
   "outputs": [
    {
     "data": {
      "text/plain": [
       "datetime.date(2019, 11, 29)"
      ]
     },
     "execution_count": 23,
     "metadata": {},
     "output_type": "execute_result"
    }
   ],
   "source": [
    "leads11['receivedAt_date'].max()"
   ]
  },
  {
   "cell_type": "code",
   "execution_count": 24,
   "metadata": {},
   "outputs": [],
   "source": [
    "leads11['receivedAt_dt_doy'] = pd.to_datetime(leads11['receivedAt'])\n",
    "leads11['receivedAt_dt_doy'] = leads11['receivedAt_dt_doy'].dt.dayofyear\n",
    "# leads11['receivedAt_dt_doy'].min() ## 43\n",
    "# leads11['receivedAt_dt_doy'].max() ## 333"
   ]
  },
  {
   "cell_type": "code",
   "execution_count": 25,
   "metadata": {},
   "outputs": [],
   "source": [
    "leads110 = leads11[leads11['isExternal']==0]\n",
    "leads111 = leads11[leads11['isExternal']==1]"
   ]
  },
  {
   "cell_type": "code",
   "execution_count": 26,
   "metadata": {},
   "outputs": [],
   "source": [
    "df_time110 = leads110[['receivedAt_dt_doy', 'isExternal']].groupby('receivedAt_dt_doy').count()\n",
    "df_time110.reset_index(inplace=True)"
   ]
  },
  {
   "cell_type": "code",
   "execution_count": 27,
   "metadata": {},
   "outputs": [],
   "source": [
    "df_time111 = leads111[['receivedAt_dt_doy', 'isExternal']].groupby('receivedAt_dt_doy').count()\n",
    "df_time111.reset_index(inplace=True)"
   ]
  },
  {
   "cell_type": "code",
   "execution_count": 28,
   "metadata": {},
   "outputs": [],
   "source": [
    "df_time11 = leads11[['receivedAt_dt_doy', 'isExternal']].groupby('receivedAt_dt_doy').count()\n",
    "df_time11.reset_index(inplace=True)"
   ]
  },
  {
   "cell_type": "markdown",
   "metadata": {},
   "source": [
    "### Insights 9 Number of leads via job assist is increasing over time\n",
    "\n",
    " * Assuming maximum number of leads via <b>job assist</b> in a day is 150"
   ]
  },
  {
   "cell_type": "code",
   "execution_count": 29,
   "metadata": {},
   "outputs": [
    {
     "data": {
      "text/plain": [
       "<seaborn.axisgrid.FacetGrid at 0x1ff1506f780>"
      ]
     },
     "execution_count": 29,
     "metadata": {},
     "output_type": "execute_result"
    },
    {
     "data": {
      "image/png": "[encoded data removed]",
      "text/plain": [
       "<Figure size 360x360 with 1 Axes>"
      ]
     },
     "metadata": {},
     "output_type": "display_data"
    }
   ],
   "source": [
    "df_time110_1 = df_time110[df_time110['isExternal']<151]\n",
    "sns.lmplot(y='isExternal', x='receivedAt_dt_doy', data=df_time110_1)"
   ]
  },
  {
   "cell_type": "markdown",
   "metadata": {},
   "source": [
    "### Insights 10 Number of leads via external source is also increasing over time\n",
    "\n",
    " * Assuming maximum number of leads via <b>external source</b> in a day is 75"
   ]
  },
  {
   "cell_type": "code",
   "execution_count": 30,
   "metadata": {},
   "outputs": [
    {
     "data": {
      "text/plain": [
       "<seaborn.axisgrid.FacetGrid at 0x1ff1506fcf8>"
      ]
     },
     "execution_count": 30,
     "metadata": {},
     "output_type": "execute_result"
    },
    {
     "data": {
      "image/png": "[encoded data removed]",
      "text/plain": [
       "<Figure size 360x360 with 1 Axes>"
      ]
     },
     "metadata": {},
     "output_type": "display_data"
    }
   ],
   "source": [
    "df_time111_1 = df_time111[df_time111['isExternal']<75]\n",
    "sns.lmplot(y='isExternal', x='receivedAt_dt_doy', data=df_time111_1)"
   ]
  },
  {
   "cell_type": "markdown",
   "metadata": {},
   "source": [
    "### Insights 11 Number of overall leads via external source as well as job assist is also increasing over time\n",
    "\n",
    " * Assuming maximum number of leads via <b>external source and job assist</b> in a day is 200"
   ]
  },
  {
   "cell_type": "code",
   "execution_count": 31,
   "metadata": {},
   "outputs": [
    {
     "data": {
      "text/plain": [
       "<seaborn.axisgrid.FacetGrid at 0x1ff154a6c50>"
      ]
     },
     "execution_count": 31,
     "metadata": {},
     "output_type": "execute_result"
    },
    {
     "data": {
      "image/png": "[encoded data removed]",
      "text/plain": [
       "<Figure size 360x360 with 1 Axes>"
      ]
     },
     "metadata": {},
     "output_type": "display_data"
    }
   ],
   "source": [
    "df_time11_1 = df_time11[df_time11['isExternal']<201]\n",
    "sns.lmplot(y='isExternal', x='receivedAt_dt_doy', data=df_time11_1)"
   ]
  },
  {
   "cell_type": "markdown",
   "metadata": {},
   "source": [
    "## Table 2: Telecallers"
   ]
  },
  {
   "cell_type": "code",
   "execution_count": 32,
   "metadata": {},
   "outputs": [
    {
     "data": {
      "text/html": [
       "<div>\n",
       "<style scoped>\n",
       "    .dataframe tbody tr th:only-of-type {\n",
       "        vertical-align: middle;\n",
       "    }\n",
       "\n",
       "    .dataframe tbody tr th {\n",
       "        vertical-align: top;\n",
       "    }\n",
       "\n",
       "    .dataframe thead th {\n",
       "        text-align: right;\n",
       "    }\n",
       "</style>\n",
       "<table border=\"1\" class=\"dataframe\">\n",
       "  <thead>\n",
       "    <tr style=\"text-align: right;\">\n",
       "      <th></th>\n",
       "      <th>id</th>\n",
       "      <th>name</th>\n",
       "      <th>phoneNumber</th>\n",
       "      <th>createdAt</th>\n",
       "    </tr>\n",
       "  </thead>\n",
       "  <tbody>\n",
       "    <tr>\n",
       "      <th>0</th>\n",
       "      <td>4248b521-ce3f-4897-a30d-35c9ee81f746</td>\n",
       "      <td>Amila</td>\n",
       "      <td>1234567890</td>\n",
       "      <td>2019-12-25T05:50:26.375Z</td>\n",
       "    </tr>\n",
       "    <tr>\n",
       "      <th>1</th>\n",
       "      <td>fd904600-1e6e-4ab2-8be9-d7903aed9d3d</td>\n",
       "      <td>Sheeba</td>\n",
       "      <td>1234567890</td>\n",
       "      <td>2019-12-25T05:50:26.385Z</td>\n",
       "    </tr>\n",
       "    <tr>\n",
       "      <th>2</th>\n",
       "      <td>7717ef5d-38ec-44df-af3b-7a2446071e48</td>\n",
       "      <td>Islam</td>\n",
       "      <td>1234567890</td>\n",
       "      <td>2019-12-25T05:50:26.388Z</td>\n",
       "    </tr>\n",
       "    <tr>\n",
       "      <th>3</th>\n",
       "      <td>89b29324-8f3b-4b50-b3f7-0a3e0918e4d2</td>\n",
       "      <td>Rakshith</td>\n",
       "      <td>1234567890</td>\n",
       "      <td>2019-12-25T05:50:26.390Z</td>\n",
       "    </tr>\n",
       "    <tr>\n",
       "      <th>4</th>\n",
       "      <td>87112942-9c14-401a-9231-d9b4c2eee0c5</td>\n",
       "      <td>Manasa</td>\n",
       "      <td>1234567890</td>\n",
       "      <td>2019-12-25T05:50:26.393Z</td>\n",
       "    </tr>\n",
       "  </tbody>\n",
       "</table>\n",
       "</div>"
      ],
      "text/plain": [
       "                                     id      name  phoneNumber  \\\n",
       "0  4248b521-ce3f-4897-a30d-35c9ee81f746     Amila   1234567890   \n",
       "1  fd904600-1e6e-4ab2-8be9-d7903aed9d3d    Sheeba   1234567890   \n",
       "2  7717ef5d-38ec-44df-af3b-7a2446071e48     Islam   1234567890   \n",
       "3  89b29324-8f3b-4b50-b3f7-0a3e0918e4d2  Rakshith   1234567890   \n",
       "4  87112942-9c14-401a-9231-d9b4c2eee0c5    Manasa   1234567890   \n",
       "\n",
       "                  createdAt  \n",
       "0  2019-12-25T05:50:26.375Z  \n",
       "1  2019-12-25T05:50:26.385Z  \n",
       "2  2019-12-25T05:50:26.388Z  \n",
       "3  2019-12-25T05:50:26.390Z  \n",
       "4  2019-12-25T05:50:26.393Z  "
      ]
     },
     "execution_count": 32,
     "metadata": {},
     "output_type": "execute_result"
    }
   ],
   "source": [
    "telecallers = pd.read_csv(r'E:\\Amits_Jupyter_Projects\\Vahan\\telecallers.csv', encoding='latin1')\n",
    "telecallers"
   ]
  },
  {
   "cell_type": "markdown",
   "metadata": {},
   "source": [
    "### Insights 12 \n",
    "1. We have 5 Telecallers in our Company, Those are <b>Amila, Sheeba, Islam, Rakshith, and Manasa</b>\n",
    "2. All the entries are created in Telecallers Table at the same time i.e, 2019-12-25 at 5:50 AM"
   ]
  },
  {
   "cell_type": "markdown",
   "metadata": {},
   "source": [
    "* <b>We can delete phoneNumber and createdAt from Telecallers table as it is not required as of now</b>"
   ]
  },
  {
   "cell_type": "code",
   "execution_count": 33,
   "metadata": {},
   "outputs": [
    {
     "data": {
      "text/html": [
       "<div>\n",
       "<style scoped>\n",
       "    .dataframe tbody tr th:only-of-type {\n",
       "        vertical-align: middle;\n",
       "    }\n",
       "\n",
       "    .dataframe tbody tr th {\n",
       "        vertical-align: top;\n",
       "    }\n",
       "\n",
       "    .dataframe thead th {\n",
       "        text-align: right;\n",
       "    }\n",
       "</style>\n",
       "<table border=\"1\" class=\"dataframe\">\n",
       "  <thead>\n",
       "    <tr style=\"text-align: right;\">\n",
       "      <th></th>\n",
       "      <th>telecallerId</th>\n",
       "      <th>telecallerName</th>\n",
       "    </tr>\n",
       "  </thead>\n",
       "  <tbody>\n",
       "    <tr>\n",
       "      <th>0</th>\n",
       "      <td>4248b521-ce3f-4897-a30d-35c9ee81f746</td>\n",
       "      <td>Amila</td>\n",
       "    </tr>\n",
       "    <tr>\n",
       "      <th>1</th>\n",
       "      <td>fd904600-1e6e-4ab2-8be9-d7903aed9d3d</td>\n",
       "      <td>Sheeba</td>\n",
       "    </tr>\n",
       "    <tr>\n",
       "      <th>2</th>\n",
       "      <td>7717ef5d-38ec-44df-af3b-7a2446071e48</td>\n",
       "      <td>Islam</td>\n",
       "    </tr>\n",
       "    <tr>\n",
       "      <th>3</th>\n",
       "      <td>89b29324-8f3b-4b50-b3f7-0a3e0918e4d2</td>\n",
       "      <td>Rakshith</td>\n",
       "    </tr>\n",
       "    <tr>\n",
       "      <th>4</th>\n",
       "      <td>87112942-9c14-401a-9231-d9b4c2eee0c5</td>\n",
       "      <td>Manasa</td>\n",
       "    </tr>\n",
       "  </tbody>\n",
       "</table>\n",
       "</div>"
      ],
      "text/plain": [
       "                           telecallerId telecallerName\n",
       "0  4248b521-ce3f-4897-a30d-35c9ee81f746          Amila\n",
       "1  fd904600-1e6e-4ab2-8be9-d7903aed9d3d         Sheeba\n",
       "2  7717ef5d-38ec-44df-af3b-7a2446071e48          Islam\n",
       "3  89b29324-8f3b-4b50-b3f7-0a3e0918e4d2       Rakshith\n",
       "4  87112942-9c14-401a-9231-d9b4c2eee0c5         Manasa"
      ]
     },
     "execution_count": 33,
     "metadata": {},
     "output_type": "execute_result"
    }
   ],
   "source": [
    "telecallers = telecallers.drop(['phoneNumber', 'createdAt'], axis=1)\n",
    "telecallers.columns = ['telecallerId', 'telecallerName']\n",
    "telecallers"
   ]
  },
  {
   "cell_type": "markdown",
   "metadata": {},
   "source": [
    "## Table 3: Lead_Calls"
   ]
  },
  {
   "cell_type": "code",
   "execution_count": 34,
   "metadata": {
    "scrolled": false
   },
   "outputs": [
    {
     "data": {
      "text/html": [
       "<div>\n",
       "<style scoped>\n",
       "    .dataframe tbody tr th:only-of-type {\n",
       "        vertical-align: middle;\n",
       "    }\n",
       "\n",
       "    .dataframe tbody tr th {\n",
       "        vertical-align: top;\n",
       "    }\n",
       "\n",
       "    .dataframe thead th {\n",
       "        text-align: right;\n",
       "    }\n",
       "</style>\n",
       "<table border=\"1\" class=\"dataframe\">\n",
       "  <thead>\n",
       "    <tr style=\"text-align: right;\">\n",
       "      <th></th>\n",
       "      <th>id</th>\n",
       "      <th>telecallerId</th>\n",
       "      <th>leadId</th>\n",
       "      <th>client</th>\n",
       "      <th>status</th>\n",
       "      <th>comments</th>\n",
       "      <th>calledAt</th>\n",
       "      <th>createdAt</th>\n",
       "    </tr>\n",
       "  </thead>\n",
       "  <tbody>\n",
       "    <tr>\n",
       "      <th>0</th>\n",
       "      <td>00028a99-c401-4048-9b75-b923cff55a79</td>\n",
       "      <td>fd904600-1e6e-4ab2-8be9-d7903aed9d3d</td>\n",
       "      <td>724467a5-52d1-4989-a870-99ae65d3e0e8</td>\n",
       "      <td>Amazon Flex</td>\n",
       "      <td>Not Interested - Applied by Mistake</td>\n",
       "      <td>NaN</td>\n",
       "      <td>2019-07-25T17:00:00Z</td>\n",
       "      <td>2019-12-26T17:32:49.297Z</td>\n",
       "    </tr>\n",
       "    <tr>\n",
       "      <th>1</th>\n",
       "      <td>00033b17-3a2a-4769-8623-bb00adf1e4c5</td>\n",
       "      <td>4248b521-ce3f-4897-a30d-35c9ee81f746</td>\n",
       "      <td>65d4429f-cb34-436d-9020-1fd6f364367f</td>\n",
       "      <td>KFC</td>\n",
       "      <td>RNR</td>\n",
       "      <td>NaN</td>\n",
       "      <td>2019-10-10T17:30:00Z</td>\n",
       "      <td>2019-12-26T18:09:38.408Z</td>\n",
       "    </tr>\n",
       "    <tr>\n",
       "      <th>2</th>\n",
       "      <td>0003dcc7-05d0-4736-a415-5e67ea95c24e</td>\n",
       "      <td>fd904600-1e6e-4ab2-8be9-d7903aed9d3d</td>\n",
       "      <td>fea7fb85-3355-4747-98fd-dae1b9aca52a</td>\n",
       "      <td>Lalamove</td>\n",
       "      <td>Not Interested - Disconnected the Call</td>\n",
       "      <td>NaN</td>\n",
       "      <td>2019-08-30T14:00:00Z</td>\n",
       "      <td>2019-12-26T17:42:55.007Z</td>\n",
       "    </tr>\n",
       "    <tr>\n",
       "      <th>3</th>\n",
       "      <td>00042f93-1e19-418f-bf38-1a8a8f758952</td>\n",
       "      <td>fd904600-1e6e-4ab2-8be9-d7903aed9d3d</td>\n",
       "      <td>3308d114-a9ed-4d81-8d08-50b28171790f</td>\n",
       "      <td>Zomato</td>\n",
       "      <td>Not Interested</td>\n",
       "      <td>Not Looking for Job</td>\n",
       "      <td>2020-06-01T10:30:00Z</td>\n",
       "      <td>2019-12-26T17:26:36.333Z</td>\n",
       "    </tr>\n",
       "    <tr>\n",
       "      <th>4</th>\n",
       "      <td>0006f07e-f4d1-4387-8540-fc8bf6e67676</td>\n",
       "      <td>fd904600-1e6e-4ab2-8be9-d7903aed9d3d</td>\n",
       "      <td>924cdffb-693f-4870-8179-d80571e1fc85</td>\n",
       "      <td>NaN</td>\n",
       "      <td>Not Applied</td>\n",
       "      <td>NaN</td>\n",
       "      <td>2020-04-01T10:30:00Z</td>\n",
       "      <td>2019-12-26T17:21:12.255Z</td>\n",
       "    </tr>\n",
       "    <tr>\n",
       "      <th>...</th>\n",
       "      <td>...</td>\n",
       "      <td>...</td>\n",
       "      <td>...</td>\n",
       "      <td>...</td>\n",
       "      <td>...</td>\n",
       "      <td>...</td>\n",
       "      <td>...</td>\n",
       "      <td>...</td>\n",
       "    </tr>\n",
       "    <tr>\n",
       "      <th>12330</th>\n",
       "      <td>ffd308fb-c87c-458f-8a5b-860f789388e0</td>\n",
       "      <td>fd904600-1e6e-4ab2-8be9-d7903aed9d3d</td>\n",
       "      <td>59bd13e7-b4e4-4536-b6dd-a09fbb1246cf</td>\n",
       "      <td>Swiggy</td>\n",
       "      <td>CNP/Switched Off/Not Reachable</td>\n",
       "      <td>NaN</td>\n",
       "      <td>2019-08-01T11:30:00Z</td>\n",
       "      <td>2019-12-26T17:31:26.531Z</td>\n",
       "    </tr>\n",
       "    <tr>\n",
       "      <th>12331</th>\n",
       "      <td>ffd55ab8-d90a-4453-ac53-1f108feb0fd5</td>\n",
       "      <td>fd904600-1e6e-4ab2-8be9-d7903aed9d3d</td>\n",
       "      <td>a12df870-e99d-4c60-9e1c-284b27f97c33</td>\n",
       "      <td>Lalamove</td>\n",
       "      <td>CNP/Switched Off/Not Reachable</td>\n",
       "      <td>NaN</td>\n",
       "      <td>2019-08-21T12:30:00Z</td>\n",
       "      <td>2019-12-26T17:42:54.500Z</td>\n",
       "    </tr>\n",
       "    <tr>\n",
       "      <th>12332</th>\n",
       "      <td>fff00176-26f1-4d97-a848-6cf5e2b988ae</td>\n",
       "      <td>fd904600-1e6e-4ab2-8be9-d7903aed9d3d</td>\n",
       "      <td>751a1e41-78d6-4a62-864d-330b347d8358</td>\n",
       "      <td>Zomato</td>\n",
       "      <td>CNP/Switched Off/Not Reachable</td>\n",
       "      <td>NaN</td>\n",
       "      <td>2019-08-07T16:00:00Z</td>\n",
       "      <td>2019-12-26T17:43:58.563Z</td>\n",
       "    </tr>\n",
       "    <tr>\n",
       "      <th>12333</th>\n",
       "      <td>ffff35b1-cdc7-474a-98c5-06add6279b4e</td>\n",
       "      <td>89b29324-8f3b-4b50-b3f7-0a3e0918e4d2</td>\n",
       "      <td>00cc3717-3a32-4318-8b68-adac850897b6</td>\n",
       "      <td>Zomato</td>\n",
       "      <td>Not Interested - Others</td>\n",
       "      <td>Is a Btech MBA Graduate\\nNot interested in doi...</td>\n",
       "      <td>2019-08-29T17:30:00Z</td>\n",
       "      <td>2019-12-26T17:48:47.624Z</td>\n",
       "    </tr>\n",
       "    <tr>\n",
       "      <th>12334</th>\n",
       "      <td>ffffefa6-4480-485e-af64-72589cf3e5e5</td>\n",
       "      <td>4248b521-ce3f-4897-a30d-35c9ee81f746</td>\n",
       "      <td>7dd9c5f4-512a-483e-a5f2-c0758792cfe5</td>\n",
       "      <td>Zomato</td>\n",
       "      <td>CNP/Switched Off/Not Reachable</td>\n",
       "      <td>NaN</td>\n",
       "      <td>2019-08-20T14:00:00Z</td>\n",
       "      <td>2019-12-26T17:52:57.361Z</td>\n",
       "    </tr>\n",
       "  </tbody>\n",
       "</table>\n",
       "<p>12335 rows × 8 columns</p>\n",
       "</div>"
      ],
      "text/plain": [
       "                                         id  \\\n",
       "0      00028a99-c401-4048-9b75-b923cff55a79   \n",
       "1      00033b17-3a2a-4769-8623-bb00adf1e4c5   \n",
       "2      0003dcc7-05d0-4736-a415-5e67ea95c24e   \n",
       "3      00042f93-1e19-418f-bf38-1a8a8f758952   \n",
       "4      0006f07e-f4d1-4387-8540-fc8bf6e67676   \n",
       "...                                     ...   \n",
       "12330  ffd308fb-c87c-458f-8a5b-860f789388e0   \n",
       "12331  ffd55ab8-d90a-4453-ac53-1f108feb0fd5   \n",
       "12332  fff00176-26f1-4d97-a848-6cf5e2b988ae   \n",
       "12333  ffff35b1-cdc7-474a-98c5-06add6279b4e   \n",
       "12334  ffffefa6-4480-485e-af64-72589cf3e5e5   \n",
       "\n",
       "                               telecallerId  \\\n",
       "0      fd904600-1e6e-4ab2-8be9-d7903aed9d3d   \n",
       "1      4248b521-ce3f-4897-a30d-35c9ee81f746   \n",
       "2      fd904600-1e6e-4ab2-8be9-d7903aed9d3d   \n",
       "3      fd904600-1e6e-4ab2-8be9-d7903aed9d3d   \n",
       "4      fd904600-1e6e-4ab2-8be9-d7903aed9d3d   \n",
       "...                                     ...   \n",
       "12330  fd904600-1e6e-4ab2-8be9-d7903aed9d3d   \n",
       "12331  fd904600-1e6e-4ab2-8be9-d7903aed9d3d   \n",
       "12332  fd904600-1e6e-4ab2-8be9-d7903aed9d3d   \n",
       "12333  89b29324-8f3b-4b50-b3f7-0a3e0918e4d2   \n",
       "12334  4248b521-ce3f-4897-a30d-35c9ee81f746   \n",
       "\n",
       "                                     leadId       client  \\\n",
       "0      724467a5-52d1-4989-a870-99ae65d3e0e8  Amazon Flex   \n",
       "1      65d4429f-cb34-436d-9020-1fd6f364367f          KFC   \n",
       "2      fea7fb85-3355-4747-98fd-dae1b9aca52a     Lalamove   \n",
       "3      3308d114-a9ed-4d81-8d08-50b28171790f       Zomato   \n",
       "4      924cdffb-693f-4870-8179-d80571e1fc85          NaN   \n",
       "...                                     ...          ...   \n",
       "12330  59bd13e7-b4e4-4536-b6dd-a09fbb1246cf       Swiggy   \n",
       "12331  a12df870-e99d-4c60-9e1c-284b27f97c33     Lalamove   \n",
       "12332  751a1e41-78d6-4a62-864d-330b347d8358       Zomato   \n",
       "12333  00cc3717-3a32-4318-8b68-adac850897b6       Zomato   \n",
       "12334  7dd9c5f4-512a-483e-a5f2-c0758792cfe5       Zomato   \n",
       "\n",
       "                                       status  \\\n",
       "0         Not Interested - Applied by Mistake   \n",
       "1                                         RNR   \n",
       "2      Not Interested - Disconnected the Call   \n",
       "3                              Not Interested   \n",
       "4                                 Not Applied   \n",
       "...                                       ...   \n",
       "12330          CNP/Switched Off/Not Reachable   \n",
       "12331          CNP/Switched Off/Not Reachable   \n",
       "12332          CNP/Switched Off/Not Reachable   \n",
       "12333                 Not Interested - Others   \n",
       "12334          CNP/Switched Off/Not Reachable   \n",
       "\n",
       "                                                comments  \\\n",
       "0                                                    NaN   \n",
       "1                                                    NaN   \n",
       "2                                                    NaN   \n",
       "3                                    Not Looking for Job   \n",
       "4                                                    NaN   \n",
       "...                                                  ...   \n",
       "12330                                                NaN   \n",
       "12331                                                NaN   \n",
       "12332                                                NaN   \n",
       "12333  Is a Btech MBA Graduate\\nNot interested in doi...   \n",
       "12334                                                NaN   \n",
       "\n",
       "                   calledAt                 createdAt  \n",
       "0      2019-07-25T17:00:00Z  2019-12-26T17:32:49.297Z  \n",
       "1      2019-10-10T17:30:00Z  2019-12-26T18:09:38.408Z  \n",
       "2      2019-08-30T14:00:00Z  2019-12-26T17:42:55.007Z  \n",
       "3      2020-06-01T10:30:00Z  2019-12-26T17:26:36.333Z  \n",
       "4      2020-04-01T10:30:00Z  2019-12-26T17:21:12.255Z  \n",
       "...                     ...                       ...  \n",
       "12330  2019-08-01T11:30:00Z  2019-12-26T17:31:26.531Z  \n",
       "12331  2019-08-21T12:30:00Z  2019-12-26T17:42:54.500Z  \n",
       "12332  2019-08-07T16:00:00Z  2019-12-26T17:43:58.563Z  \n",
       "12333  2019-08-29T17:30:00Z  2019-12-26T17:48:47.624Z  \n",
       "12334  2019-08-20T14:00:00Z  2019-12-26T17:52:57.361Z  \n",
       "\n",
       "[12335 rows x 8 columns]"
      ]
     },
     "execution_count": 34,
     "metadata": {},
     "output_type": "execute_result"
    }
   ],
   "source": [
    "lead_calls = pd.read_csv(r'E:\\Amits_Jupyter_Projects\\Vahan\\lead_calls.csv', encoding='latin1')\n",
    "lead_calls"
   ]
  },
  {
   "cell_type": "markdown",
   "metadata": {},
   "source": [
    "### Feature Selection or Handling\n",
    "\n",
    "1. Since lead_calls <b>id</b> is uniquely identify each row, So we can drop this feature \n",
    "2.  <b>telecallerId</b> of Lead_calls table is being replaced by <b>telecallerName</b> of Telecallers Table, Because we have only few telecallers which can be identified by their name also"
   ]
  },
  {
   "cell_type": "code",
   "execution_count": 35,
   "metadata": {},
   "outputs": [
    {
     "data": {
      "text/plain": [
       "12335"
      ]
     },
     "execution_count": 35,
     "metadata": {},
     "output_type": "execute_result"
    }
   ],
   "source": [
    "lead_calls['id'].nunique()"
   ]
  },
  {
   "cell_type": "code",
   "execution_count": 36,
   "metadata": {},
   "outputs": [
    {
     "data": {
      "text/html": [
       "<div>\n",
       "<style scoped>\n",
       "    .dataframe tbody tr th:only-of-type {\n",
       "        vertical-align: middle;\n",
       "    }\n",
       "\n",
       "    .dataframe tbody tr th {\n",
       "        vertical-align: top;\n",
       "    }\n",
       "\n",
       "    .dataframe thead th {\n",
       "        text-align: right;\n",
       "    }\n",
       "</style>\n",
       "<table border=\"1\" class=\"dataframe\">\n",
       "  <thead>\n",
       "    <tr style=\"text-align: right;\">\n",
       "      <th></th>\n",
       "      <th>telecallerName</th>\n",
       "      <th>leadId</th>\n",
       "      <th>client</th>\n",
       "      <th>status</th>\n",
       "      <th>comments</th>\n",
       "      <th>calledAt</th>\n",
       "      <th>createdAt</th>\n",
       "    </tr>\n",
       "  </thead>\n",
       "  <tbody>\n",
       "    <tr>\n",
       "      <th>0</th>\n",
       "      <td>Amila</td>\n",
       "      <td>65d4429f-cb34-436d-9020-1fd6f364367f</td>\n",
       "      <td>KFC</td>\n",
       "      <td>RNR</td>\n",
       "      <td>NaN</td>\n",
       "      <td>2019-10-10T17:30:00Z</td>\n",
       "      <td>2019-12-26T18:09:38.408Z</td>\n",
       "    </tr>\n",
       "    <tr>\n",
       "      <th>1</th>\n",
       "      <td>Amila</td>\n",
       "      <td>1ad38259-a8a7-4b70-b72a-0c5ab046ee99</td>\n",
       "      <td>Amazon Flex</td>\n",
       "      <td>CNP/Switched Off/Not Reachable</td>\n",
       "      <td>NaN</td>\n",
       "      <td>2019-08-07T15:30:00Z</td>\n",
       "      <td>2019-12-26T17:40:36.254Z</td>\n",
       "    </tr>\n",
       "    <tr>\n",
       "      <th>2</th>\n",
       "      <td>Amila</td>\n",
       "      <td>4f88e0a6-d944-4425-84bd-2a7cb1e5a266</td>\n",
       "      <td>Swiggy</td>\n",
       "      <td>CNP/Switched Off/Not Reachable</td>\n",
       "      <td>NaN</td>\n",
       "      <td>2019-08-01T15:30:00Z</td>\n",
       "      <td>2019-12-26T17:36:12.462Z</td>\n",
       "    </tr>\n",
       "    <tr>\n",
       "      <th>3</th>\n",
       "      <td>Amila</td>\n",
       "      <td>f14e3921-fe25-4344-8a3d-a261e2a258cc</td>\n",
       "      <td>Zomato</td>\n",
       "      <td>Very Interested</td>\n",
       "      <td>Going on Sat</td>\n",
       "      <td>2019-08-08T11:00:00Z</td>\n",
       "      <td>2019-12-26T17:52:58.332Z</td>\n",
       "    </tr>\n",
       "    <tr>\n",
       "      <th>4</th>\n",
       "      <td>Amila</td>\n",
       "      <td>c3054421-6f40-4573-a33e-a092649cc1fb</td>\n",
       "      <td>Swiggy</td>\n",
       "      <td>Wrong Number/Number Not Valid</td>\n",
       "      <td>NaN</td>\n",
       "      <td>2019-08-05T12:30:00Z</td>\n",
       "      <td>2019-12-26T17:36:17.400Z</td>\n",
       "    </tr>\n",
       "    <tr>\n",
       "      <th>...</th>\n",
       "      <td>...</td>\n",
       "      <td>...</td>\n",
       "      <td>...</td>\n",
       "      <td>...</td>\n",
       "      <td>...</td>\n",
       "      <td>...</td>\n",
       "      <td>...</td>\n",
       "    </tr>\n",
       "    <tr>\n",
       "      <th>12330</th>\n",
       "      <td>Rakshith</td>\n",
       "      <td>80bc8765-0b25-42b3-95e3-62ecfe4af33e</td>\n",
       "      <td>Zomato</td>\n",
       "      <td>Interested</td>\n",
       "      <td>Is a last year graduation student\\nInterested ...</td>\n",
       "      <td>2019-09-02T12:30:00Z</td>\n",
       "      <td>2019-12-26T17:48:48.141Z</td>\n",
       "    </tr>\n",
       "    <tr>\n",
       "      <th>12331</th>\n",
       "      <td>Rakshith</td>\n",
       "      <td>c27d6673-f872-4878-b869-42a064a5848c</td>\n",
       "      <td>Zomato</td>\n",
       "      <td>Not Interested - Location Issue</td>\n",
       "      <td>Came to the centre\\nDidn't get the location he...</td>\n",
       "      <td>2019-08-26T10:30:00Z</td>\n",
       "      <td>2019-12-26T17:47:38.363Z</td>\n",
       "    </tr>\n",
       "    <tr>\n",
       "      <th>12332</th>\n",
       "      <td>Rakshith</td>\n",
       "      <td>aa23bc8c-6e4d-4303-b97f-489838f8a35f</td>\n",
       "      <td>Zomato</td>\n",
       "      <td>Not Interested - Got Other Jobs</td>\n",
       "      <td>NaN</td>\n",
       "      <td>2019-08-26T15:00:00Z</td>\n",
       "      <td>2019-12-26T17:47:38.289Z</td>\n",
       "    </tr>\n",
       "    <tr>\n",
       "      <th>12333</th>\n",
       "      <td>Rakshith</td>\n",
       "      <td>ee6c175b-7c83-49f4-994c-b1ad971a1913</td>\n",
       "      <td>Zomato</td>\n",
       "      <td>Interested</td>\n",
       "      <td>10th pass\\nWill come next monday 9 sep\\nWorkin...</td>\n",
       "      <td>2019-09-02T13:00:00Z</td>\n",
       "      <td>2019-12-26T17:48:48.155Z</td>\n",
       "    </tr>\n",
       "    <tr>\n",
       "      <th>12334</th>\n",
       "      <td>Rakshith</td>\n",
       "      <td>00cc3717-3a32-4318-8b68-adac850897b6</td>\n",
       "      <td>Zomato</td>\n",
       "      <td>Not Interested - Others</td>\n",
       "      <td>Is a Btech MBA Graduate\\nNot interested in doi...</td>\n",
       "      <td>2019-08-29T17:30:00Z</td>\n",
       "      <td>2019-12-26T17:48:47.624Z</td>\n",
       "    </tr>\n",
       "  </tbody>\n",
       "</table>\n",
       "<p>12335 rows × 7 columns</p>\n",
       "</div>"
      ],
      "text/plain": [
       "      telecallerName                                leadId       client  \\\n",
       "0              Amila  65d4429f-cb34-436d-9020-1fd6f364367f          KFC   \n",
       "1              Amila  1ad38259-a8a7-4b70-b72a-0c5ab046ee99  Amazon Flex   \n",
       "2              Amila  4f88e0a6-d944-4425-84bd-2a7cb1e5a266       Swiggy   \n",
       "3              Amila  f14e3921-fe25-4344-8a3d-a261e2a258cc       Zomato   \n",
       "4              Amila  c3054421-6f40-4573-a33e-a092649cc1fb       Swiggy   \n",
       "...              ...                                   ...          ...   \n",
       "12330       Rakshith  80bc8765-0b25-42b3-95e3-62ecfe4af33e       Zomato   \n",
       "12331       Rakshith  c27d6673-f872-4878-b869-42a064a5848c       Zomato   \n",
       "12332       Rakshith  aa23bc8c-6e4d-4303-b97f-489838f8a35f       Zomato   \n",
       "12333       Rakshith  ee6c175b-7c83-49f4-994c-b1ad971a1913       Zomato   \n",
       "12334       Rakshith  00cc3717-3a32-4318-8b68-adac850897b6       Zomato   \n",
       "\n",
       "                                status  \\\n",
       "0                                  RNR   \n",
       "1       CNP/Switched Off/Not Reachable   \n",
       "2       CNP/Switched Off/Not Reachable   \n",
       "3                      Very Interested   \n",
       "4        Wrong Number/Number Not Valid   \n",
       "...                                ...   \n",
       "12330                       Interested   \n",
       "12331  Not Interested - Location Issue   \n",
       "12332  Not Interested - Got Other Jobs   \n",
       "12333                       Interested   \n",
       "12334          Not Interested - Others   \n",
       "\n",
       "                                                comments  \\\n",
       "0                                                    NaN   \n",
       "1                                                    NaN   \n",
       "2                                                    NaN   \n",
       "3                                           Going on Sat   \n",
       "4                                                    NaN   \n",
       "...                                                  ...   \n",
       "12330  Is a last year graduation student\\nInterested ...   \n",
       "12331  Came to the centre\\nDidn't get the location he...   \n",
       "12332                                                NaN   \n",
       "12333  10th pass\\nWill come next monday 9 sep\\nWorkin...   \n",
       "12334  Is a Btech MBA Graduate\\nNot interested in doi...   \n",
       "\n",
       "                   calledAt                 createdAt  \n",
       "0      2019-10-10T17:30:00Z  2019-12-26T18:09:38.408Z  \n",
       "1      2019-08-07T15:30:00Z  2019-12-26T17:40:36.254Z  \n",
       "2      2019-08-01T15:30:00Z  2019-12-26T17:36:12.462Z  \n",
       "3      2019-08-08T11:00:00Z  2019-12-26T17:52:58.332Z  \n",
       "4      2019-08-05T12:30:00Z  2019-12-26T17:36:17.400Z  \n",
       "...                     ...                       ...  \n",
       "12330  2019-09-02T12:30:00Z  2019-12-26T17:48:48.141Z  \n",
       "12331  2019-08-26T10:30:00Z  2019-12-26T17:47:38.363Z  \n",
       "12332  2019-08-26T15:00:00Z  2019-12-26T17:47:38.289Z  \n",
       "12333  2019-09-02T13:00:00Z  2019-12-26T17:48:48.155Z  \n",
       "12334  2019-08-29T17:30:00Z  2019-12-26T17:48:47.624Z  \n",
       "\n",
       "[12335 rows x 7 columns]"
      ]
     },
     "execution_count": 36,
     "metadata": {},
     "output_type": "execute_result"
    }
   ],
   "source": [
    "lead_calls = pd.merge(telecallers, lead_calls, on='telecallerId', how='inner')\n",
    "lead_calls = lead_calls.drop(['id', 'telecallerId'], axis=1)\n",
    "lead_calls"
   ]
  },
  {
   "cell_type": "markdown",
   "metadata": {},
   "source": [
    "### Insights 13\n",
    "* Calls made by telecallers are <b>not equally distributed</b>\n",
    "* <b>Sheela has called maximum 8770 times</b>, After that <b>Amila 3206 times</b>, and <b>few calls were from Rakshith 359</b>\n",
    "* There is <b>no call made from Islam and Manasa</b>, So We can ask them as well to make calls to the leads "
   ]
  },
  {
   "cell_type": "code",
   "execution_count": 37,
   "metadata": {},
   "outputs": [
    {
     "data": {
      "text/plain": [
       "Sheeba      8770\n",
       "Amila       3206\n",
       "Rakshith     359\n",
       "Name: telecallerName, dtype: int64"
      ]
     },
     "execution_count": 37,
     "metadata": {},
     "output_type": "execute_result"
    }
   ],
   "source": [
    "lead_calls['telecallerName'].value_counts()"
   ]
  },
  {
   "cell_type": "code",
   "execution_count": 38,
   "metadata": {},
   "outputs": [],
   "source": [
    "lead_calls['createdAt'] = pd.to_datetime(lead_calls['createdAt'])\n",
    "lead_calls['calledAt'] = pd.to_datetime(lead_calls['calledAt'])"
   ]
  },
  {
   "cell_type": "markdown",
   "metadata": {},
   "source": [
    "### Insights 14 When did entries created in the table\n",
    "\n",
    " * on 26 Dec 2019 between 17:00 to 19:00"
   ]
  },
  {
   "cell_type": "code",
   "execution_count": 39,
   "metadata": {},
   "outputs": [
    {
     "data": {
      "text/plain": [
       "2019-12-26    12335\n",
       "Name: createdAt_dt_date, dtype: int64"
      ]
     },
     "execution_count": 39,
     "metadata": {},
     "output_type": "execute_result"
    }
   ],
   "source": [
    "lead_calls['createdAt_dt_date'] = lead_calls['createdAt'].dt.date\n",
    "lead_calls['createdAt_dt_date'].value_counts()"
   ]
  },
  {
   "cell_type": "code",
   "execution_count": 40,
   "metadata": {},
   "outputs": [
    {
     "data": {
      "text/plain": [
       "17    8585\n",
       "18    3750\n",
       "Name: createdAt_dt_hour, dtype: int64"
      ]
     },
     "execution_count": 40,
     "metadata": {},
     "output_type": "execute_result"
    }
   ],
   "source": [
    "lead_calls['createdAt_dt_hour'] = lead_calls['createdAt'].dt.hour\n",
    "lead_calls['createdAt_dt_hour'].value_counts()"
   ]
  },
  {
   "cell_type": "code",
   "execution_count": 41,
   "metadata": {},
   "outputs": [],
   "source": [
    "lead_calls.drop(['createdAt_dt_date', 'createdAt_dt_hour', 'createdAt'], axis=1, inplace=True)"
   ]
  },
  {
   "cell_type": "markdown",
   "metadata": {},
   "source": [
    "### Insights 15 time of the call\n",
    "\n",
    " * Dates are between <b>9 July 2019 to 30 Aug 2020</b>\n",
    " * Majority of people received on <b>2020-05-01, 2020-04-01, 2020-06-01, 2019-10-10, 2019-08-06, 2019-07-30, 2019-08-13, 2019-08-20, 2019-07-22, 2019-07-19</b> respectively"
   ]
  },
  {
   "cell_type": "code",
   "execution_count": 42,
   "metadata": {},
   "outputs": [
    {
     "data": {
      "text/plain": [
       "2020-05-01    1872\n",
       "2020-04-01    1308\n",
       "2020-06-01    1001\n",
       "2019-10-10     461\n",
       "2019-08-06     291\n",
       "2019-07-30     253\n",
       "2019-08-13     249\n",
       "2019-08-20     228\n",
       "2019-07-22     226\n",
       "2019-07-19     216\n",
       "Name: calledAt_dt_date, dtype: int64"
      ]
     },
     "execution_count": 42,
     "metadata": {},
     "output_type": "execute_result"
    }
   ],
   "source": [
    "lead_calls['calledAt_dt_date'] = lead_calls['calledAt'].dt.date\n",
    "lead_calls['calledAt_dt_date'].value_counts().head(10)"
   ]
  },
  {
   "cell_type": "code",
   "execution_count": 43,
   "metadata": {},
   "outputs": [],
   "source": [
    "lead_calls.drop(['calledAt'], axis=1, inplace=True)"
   ]
  },
  {
   "cell_type": "code",
   "execution_count": 44,
   "metadata": {},
   "outputs": [
    {
     "data": {
      "text/plain": [
       "datetime.date(2016, 8, 26)"
      ]
     },
     "execution_count": 44,
     "metadata": {},
     "output_type": "execute_result"
    }
   ],
   "source": [
    "lead_calls['calledAt_dt_date'].min()"
   ]
  },
  {
   "cell_type": "code",
   "execution_count": 45,
   "metadata": {},
   "outputs": [
    {
     "data": {
      "text/plain": [
       "datetime.date(2019, 7, 9)"
      ]
     },
     "execution_count": 45,
     "metadata": {},
     "output_type": "execute_result"
    }
   ],
   "source": [
    "lead_calls[lead_calls['calledAt_dt_date']>datetime.date(2016, 8, 26)]['calledAt_dt_date'].min()"
   ]
  },
  {
   "cell_type": "code",
   "execution_count": 46,
   "metadata": {},
   "outputs": [
    {
     "data": {
      "text/plain": [
       "datetime.date(2020, 8, 30)"
      ]
     },
     "execution_count": 46,
     "metadata": {},
     "output_type": "execute_result"
    }
   ],
   "source": [
    "lead_calls['calledAt_dt_date'].max()"
   ]
  },
  {
   "cell_type": "markdown",
   "metadata": {},
   "source": [
    "### Insights 16 Number of leads called how many times\n",
    "* telecallers called only <b>once to 8316</b> different leads <b>83.86 % leads</b>\n",
    "* telecallers called only <b>twice to 969</b> different leads <b>9.77 % leads</b>\n",
    "* telecallers called only <b>thrice to 534</b> different leads <b>5.38 % leads</b>\n",
    "* telecallers called only <b>4 times to 58</b> different leads <b>0.58 % leads</b>"
   ]
  },
  {
   "cell_type": "code",
   "execution_count": 47,
   "metadata": {},
   "outputs": [
    {
     "data": {
      "text/plain": [
       "1     83.864461\n",
       "2      9.772086\n",
       "3      5.385236\n",
       "4      0.584913\n",
       "6      0.171440\n",
       "5      0.161355\n",
       "8      0.020169\n",
       "23     0.010085\n",
       "7      0.010085\n",
       "10     0.010085\n",
       "9      0.010085\n",
       "Name: leadId, dtype: float64"
      ]
     },
     "execution_count": 47,
     "metadata": {},
     "output_type": "execute_result"
    }
   ],
   "source": [
    "# lead_calls['leadId'].value_counts().value_counts()\n",
    "lead_calls['leadId'].value_counts().value_counts(normalize=True)*100"
   ]
  },
  {
   "cell_type": "code",
   "execution_count": 48,
   "metadata": {},
   "outputs": [
    {
     "data": {
      "text/html": [
       "<div>\n",
       "<style scoped>\n",
       "    .dataframe tbody tr th:only-of-type {\n",
       "        vertical-align: middle;\n",
       "    }\n",
       "\n",
       "    .dataframe tbody tr th {\n",
       "        vertical-align: top;\n",
       "    }\n",
       "\n",
       "    .dataframe thead th {\n",
       "        text-align: right;\n",
       "    }\n",
       "</style>\n",
       "<table border=\"1\" class=\"dataframe\">\n",
       "  <thead>\n",
       "    <tr style=\"text-align: right;\">\n",
       "      <th></th>\n",
       "      <th>telecallerName</th>\n",
       "      <th>leadId</th>\n",
       "      <th>client</th>\n",
       "      <th>status</th>\n",
       "      <th>comments</th>\n",
       "      <th>calledAt_dt_date</th>\n",
       "    </tr>\n",
       "  </thead>\n",
       "  <tbody>\n",
       "    <tr>\n",
       "      <th>0</th>\n",
       "      <td>Amila</td>\n",
       "      <td>65d4429f-cb34-436d-9020-1fd6f364367f</td>\n",
       "      <td>KFC</td>\n",
       "      <td>RNR</td>\n",
       "      <td>NaN</td>\n",
       "      <td>2019-10-10</td>\n",
       "    </tr>\n",
       "    <tr>\n",
       "      <th>1</th>\n",
       "      <td>Amila</td>\n",
       "      <td>1ad38259-a8a7-4b70-b72a-0c5ab046ee99</td>\n",
       "      <td>Amazon Flex</td>\n",
       "      <td>CNP/Switched Off/Not Reachable</td>\n",
       "      <td>NaN</td>\n",
       "      <td>2019-08-07</td>\n",
       "    </tr>\n",
       "    <tr>\n",
       "      <th>2</th>\n",
       "      <td>Amila</td>\n",
       "      <td>4f88e0a6-d944-4425-84bd-2a7cb1e5a266</td>\n",
       "      <td>Swiggy</td>\n",
       "      <td>CNP/Switched Off/Not Reachable</td>\n",
       "      <td>NaN</td>\n",
       "      <td>2019-08-01</td>\n",
       "    </tr>\n",
       "    <tr>\n",
       "      <th>3</th>\n",
       "      <td>Amila</td>\n",
       "      <td>f14e3921-fe25-4344-8a3d-a261e2a258cc</td>\n",
       "      <td>Zomato</td>\n",
       "      <td>Very Interested</td>\n",
       "      <td>Going on Sat</td>\n",
       "      <td>2019-08-08</td>\n",
       "    </tr>\n",
       "    <tr>\n",
       "      <th>4</th>\n",
       "      <td>Amila</td>\n",
       "      <td>c3054421-6f40-4573-a33e-a092649cc1fb</td>\n",
       "      <td>Swiggy</td>\n",
       "      <td>Wrong Number/Number Not Valid</td>\n",
       "      <td>NaN</td>\n",
       "      <td>2019-08-05</td>\n",
       "    </tr>\n",
       "    <tr>\n",
       "      <th>...</th>\n",
       "      <td>...</td>\n",
       "      <td>...</td>\n",
       "      <td>...</td>\n",
       "      <td>...</td>\n",
       "      <td>...</td>\n",
       "      <td>...</td>\n",
       "    </tr>\n",
       "    <tr>\n",
       "      <th>12330</th>\n",
       "      <td>Rakshith</td>\n",
       "      <td>80bc8765-0b25-42b3-95e3-62ecfe4af33e</td>\n",
       "      <td>Zomato</td>\n",
       "      <td>Interested</td>\n",
       "      <td>Is a last year graduation student\\nInterested ...</td>\n",
       "      <td>2019-09-02</td>\n",
       "    </tr>\n",
       "    <tr>\n",
       "      <th>12331</th>\n",
       "      <td>Rakshith</td>\n",
       "      <td>c27d6673-f872-4878-b869-42a064a5848c</td>\n",
       "      <td>Zomato</td>\n",
       "      <td>Not Interested - Location Issue</td>\n",
       "      <td>Came to the centre\\nDidn't get the location he...</td>\n",
       "      <td>2019-08-26</td>\n",
       "    </tr>\n",
       "    <tr>\n",
       "      <th>12332</th>\n",
       "      <td>Rakshith</td>\n",
       "      <td>aa23bc8c-6e4d-4303-b97f-489838f8a35f</td>\n",
       "      <td>Zomato</td>\n",
       "      <td>Not Interested - Got Other Jobs</td>\n",
       "      <td>NaN</td>\n",
       "      <td>2019-08-26</td>\n",
       "    </tr>\n",
       "    <tr>\n",
       "      <th>12333</th>\n",
       "      <td>Rakshith</td>\n",
       "      <td>ee6c175b-7c83-49f4-994c-b1ad971a1913</td>\n",
       "      <td>Zomato</td>\n",
       "      <td>Interested</td>\n",
       "      <td>10th pass\\nWill come next monday 9 sep\\nWorkin...</td>\n",
       "      <td>2019-09-02</td>\n",
       "    </tr>\n",
       "    <tr>\n",
       "      <th>12334</th>\n",
       "      <td>Rakshith</td>\n",
       "      <td>00cc3717-3a32-4318-8b68-adac850897b6</td>\n",
       "      <td>Zomato</td>\n",
       "      <td>Not Interested - Others</td>\n",
       "      <td>Is a Btech MBA Graduate\\nNot interested in doi...</td>\n",
       "      <td>2019-08-29</td>\n",
       "    </tr>\n",
       "  </tbody>\n",
       "</table>\n",
       "<p>12335 rows × 6 columns</p>\n",
       "</div>"
      ],
      "text/plain": [
       "      telecallerName                                leadId       client  \\\n",
       "0              Amila  65d4429f-cb34-436d-9020-1fd6f364367f          KFC   \n",
       "1              Amila  1ad38259-a8a7-4b70-b72a-0c5ab046ee99  Amazon Flex   \n",
       "2              Amila  4f88e0a6-d944-4425-84bd-2a7cb1e5a266       Swiggy   \n",
       "3              Amila  f14e3921-fe25-4344-8a3d-a261e2a258cc       Zomato   \n",
       "4              Amila  c3054421-6f40-4573-a33e-a092649cc1fb       Swiggy   \n",
       "...              ...                                   ...          ...   \n",
       "12330       Rakshith  80bc8765-0b25-42b3-95e3-62ecfe4af33e       Zomato   \n",
       "12331       Rakshith  c27d6673-f872-4878-b869-42a064a5848c       Zomato   \n",
       "12332       Rakshith  aa23bc8c-6e4d-4303-b97f-489838f8a35f       Zomato   \n",
       "12333       Rakshith  ee6c175b-7c83-49f4-994c-b1ad971a1913       Zomato   \n",
       "12334       Rakshith  00cc3717-3a32-4318-8b68-adac850897b6       Zomato   \n",
       "\n",
       "                                status  \\\n",
       "0                                  RNR   \n",
       "1       CNP/Switched Off/Not Reachable   \n",
       "2       CNP/Switched Off/Not Reachable   \n",
       "3                      Very Interested   \n",
       "4        Wrong Number/Number Not Valid   \n",
       "...                                ...   \n",
       "12330                       Interested   \n",
       "12331  Not Interested - Location Issue   \n",
       "12332  Not Interested - Got Other Jobs   \n",
       "12333                       Interested   \n",
       "12334          Not Interested - Others   \n",
       "\n",
       "                                                comments calledAt_dt_date  \n",
       "0                                                    NaN       2019-10-10  \n",
       "1                                                    NaN       2019-08-07  \n",
       "2                                                    NaN       2019-08-01  \n",
       "3                                           Going on Sat       2019-08-08  \n",
       "4                                                    NaN       2019-08-05  \n",
       "...                                                  ...              ...  \n",
       "12330  Is a last year graduation student\\nInterested ...       2019-09-02  \n",
       "12331  Came to the centre\\nDidn't get the location he...       2019-08-26  \n",
       "12332                                                NaN       2019-08-26  \n",
       "12333  10th pass\\nWill come next monday 9 sep\\nWorkin...       2019-09-02  \n",
       "12334  Is a Btech MBA Graduate\\nNot interested in doi...       2019-08-29  \n",
       "\n",
       "[12335 rows x 6 columns]"
      ]
     },
     "execution_count": 48,
     "metadata": {},
     "output_type": "execute_result"
    }
   ],
   "source": [
    "lead_calls"
   ]
  },
  {
   "cell_type": "code",
   "execution_count": null,
   "metadata": {},
   "outputs": [],
   "source": []
  }
 ],
 "metadata": {
  "kernelspec": {
   "display_name": "Python 3",
   "language": "python",
   "name": "python3"
  },
  "language_info": {
   "codemirror_mode": {
    "name": "ipython",
    "version": 3
   },
   "file_extension": ".py",
   "mimetype": "text/x-python",
   "name": "python",
   "nbconvert_exporter": "python",
   "pygments_lexer": "ipython3",
   "version": "3.7.3"
  }
 },
 "nbformat": 4,
 "nbformat_minor": 2
}
